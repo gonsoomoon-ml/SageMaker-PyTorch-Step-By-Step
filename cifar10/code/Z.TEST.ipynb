{
 "cells": [
  {
   "cell_type": "code",
   "execution_count": null,
   "id": "6620d47b",
   "metadata": {},
   "outputs": [],
   "source": []
  },
  {
   "cell_type": "markdown",
   "id": "b8ea322f",
   "metadata": {},
   "source": [
    "## 모델 로딩 에러\n",
    "```\n",
    "RuntimeError: version_ <= kMaxSupportedFileFormatVersion INTERNAL ASSERT FAILED at /opt/conda/conda-bld/pytorch_1579022034529/work/caffe2/serialize/inline_container.cc:132, please report a bug to PyTorch. Attempted to read a PyTorch file with version 3, but the maximum supported version for reading is 2. Your PyTorch installation may be too old. (init at /opt/conda/conda-bld/pytorch_1579022034529/work/caffe2/serialize/inline_container.cc:132)\n",
    "frame #0: c10::Error::Error(c10::SourceLocation, std::string const&) + 0x47 (0x7f7250faa627 in /home/ec2-user/anaconda3/envs/pytorch_p36/lib/python3.6/site-packages/torch/lib/libc10.so)\n",
    "frame #1: caffe2::serialize::PyTorchStreamReader::init() + 0x1f5b (0x7f725acf29ab in /home/ec2-user/anaconda3/envs/pytorch_p36/lib/python3.6/site-packages/torch/lib/libtorch.so)\n",
    "frame #2: caffe2::serialize::PyTorchStreamReader::PyTorchStreamReader(std::string const&) + 0x64 (0x7f725acf3bc4 in /home/ec2-user/anaconda3/envs/pytorch_p36/lib/python3.6/site-packages/torch/lib/libtorch.so)\n",
    "frame #3: <unknown function> + 0x6d1326 (0x7f728873d326 in /home/ec2-user/anaconda3/envs/pytorch_p36/lib/python3.6/site-packages/torch/lib/libtorch_python.so)\n",
    "frame #4: <unknown function> + 0x28c076 (0x7f72882f8076 in /home/ec2-user/anaconda3/envs/pytorch_p36/lib/python3.6/site-packages/torch/lib/libtorch_python.so)\n",
    "frame #5: _PyCFunction_FastCallDict + 0x281 (0x5654c11d7d21 in /home/ec2-user/anaconda3/envs/pytorch_p36/bin/python)\n",
    "```"
   ]
  },
  {
   "cell_type": "markdown",
   "id": "24dff9d0",
   "metadata": {},
   "source": [
    "## 리파지토리 검색"
   ]
  },
  {
   "cell_type": "code",
   "execution_count": 3,
   "id": "19145c85",
   "metadata": {},
   "outputs": [
    {
     "name": "stdout",
     "output_type": "stream",
     "text": [
      "{\n",
      "    \"repositories\": [\n",
      "        {\n",
      "            \"repositoryArn\": \"arn:aws:ecr:ap-northeast-2:763104351884:repository/pytorch-training\",\n",
      "            \"registryId\": \"763104351884\",\n",
      "            \"repositoryName\": \"pytorch-training\",\n",
      "            \"repositoryUri\": \"763104351884.dkr.ecr.ap-northeast-2.amazonaws.com/pytorch-training\",\n",
      "            \"createdAt\": 1568082827.0,\n",
      "            \"imageTagMutability\": \"MUTABLE\",\n",
      "            \"imageScanningConfiguration\": {\n",
      "                \"scanOnPush\": false\n",
      "            },\n",
      "            \"encryptionConfiguration\": {\n",
      "                \"encryptionType\": \"AES256\"\n",
      "            }\n",
      "        }\n",
      "    ]\n",
      "}\n"
     ]
    }
   ],
   "source": [
    "! aws ecr describe-repositories --repository-names pytorch-training --registry-id 763104351884"
   ]
  },
  {
   "cell_type": "code",
   "execution_count": 4,
   "id": "ed83e681",
   "metadata": {},
   "outputs": [
    {
     "name": "stdout",
     "output_type": "stream",
     "text": [
      "            \"imageTag\": \"1.3.1-gpu-py36-cu101-ubuntu16.04-v2.1-2019-12-11-02-41-47\"\n",
      "            \"imageDigest\": \"sha256:ee07b739ab5da8403c3fabc11c4fd6c7c105df68a81efaa919d8721e75e8d4b3\",\n",
      "            \"imageTag\": \"1.4.0-cpu-py27-ubuntu16.04-v3.2\"\n",
      "            \"imageDigest\": \"sha256:ee07b739ab5da8403c3fabc11c4fd6c7c105df68a81efaa919d8721e75e8d4b3\",\n",
      "            \"imageTag\": \"1.4-cpu-py2\"\n",
      "            \"imageDigest\": \"sha256:ee07b739ab5da8403c3fabc11c4fd6c7c105df68a81efaa919d8721e75e8d4b3\",\n",
      "            \"imageTag\": \"1.4.0-cpu-py27-ubuntu16.04-v3.2-2020-04-04-00-46-20\"\n",
      "            \"imageDigest\": \"sha256:ee07b739ab5da8403c3fabc11c4fd6c7c105df68a81efaa919d8721e75e8d4b3\",\n",
      "            \"imageTag\": \"1.4.0-cpu-py27-ubuntu16.04\"\n",
      "            \"imageDigest\": \"sha256:ee07b739ab5da8403c3fabc11c4fd6c7c105df68a81efaa919d8721e75e8d4b3\",\n",
      "            \"imageTag\": \"1.4.0-cpu-py2\"\n",
      "            \"imageTag\": \"1.4.0-cpu-py36-ubuntu16.04-v3.1\"\n",
      "            \"imageTag\": \"1.4.0-cpu-py36-ubuntu16.04-v3.1-2020-03-19-21-16-17\"\n",
      "            \"imageDigest\": \"sha256:29978189ac592a51a10145eebb61a4c46570c6c8224f4121173c1f786b1ac555\",\n",
      "            \"imageTag\": \"1.8.1-gpu-py36-cu111-ubuntu18.04-v1.4\"\n",
      "            \"imageDigest\": \"sha256:29978189ac592a51a10145eebb61a4c46570c6c8224f4121173c1f786b1ac555\",\n",
      "            \"imageTag\": \"1.8.1-gpu-py36-cu111-ubuntu18.04-v1.4-2021-05-03-22-30-20\"\n",
      "            \"imageDigest\": \"sha256:53a00710e7210346c995f5d3ddfb75482bc7239de696a20370ccb4164201a462\",\n",
      "            \"imageDigest\": \"sha256:53a00710e7210346c995f5d3ddfb75482bc7239de696a20370ccb4164201a462\",\n",
      "            \"imageDigest\": \"sha256:53a00710e7210346c995f5d3ddfb75482bc7239de696a20370ccb4164201a462\",\n",
      "            \"imageDigest\": \"sha256:53a00710e7210346c995f5d3ddfb75482bc7239de696a20370ccb4164201a462\",\n",
      "            \"imageDigest\": \"sha256:53a00710e7210346c995f5d3ddfb75482bc7239de696a20370ccb4164201a462\",\n",
      "            \"imageDigest\": \"sha256:196a94d593037cddb8777f33838b9159d4f4315fd6b0e3ea1a42b8a77ea5ac78\",\n",
      "            \"imageDigest\": \"sha256:196a94d593037cddb8777f33838b9159d4f4315fd6b0e3ea1a42b8a77ea5ac78\",\n",
      "            \"imageTag\": \"1.6.0-gpu-py36-cu101-ubuntu16.04-v1.4-2020-10-15-15-01-52\"\n",
      "            \"imageTag\": \"1.6.0-gpu-py36-cu101-ubuntu16.04-v1.4\"\n",
      "            \"imageTag\": \"1.4-gpu-py36-cu101-ubuntu16.04-v3\"\n",
      "            \"imageTag\": \"1.4-gpu-py36\"\n",
      "            \"imageTag\": \"1.4.0-gpu-py36-cu101-ubuntu16.04-v3.4-2021-03-11-04-52-53\"\n",
      "            \"imageTag\": \"1.4.0-gpu-py36-cu101-ubuntu16.04\"\n",
      "            \"imageTag\": \"1.4-gpu-py3\"\n",
      "            \"imageTag\": \"1.4.0-gpu-py36\"\n",
      "            \"imageTag\": \"1.4.0-gpu-py3\"\n",
      "            \"imageTag\": \"1.4.0-gpu-py36-cu101-ubuntu16.04-v3.4\"\n",
      "            \"imageDigest\": \"sha256:f36ab7089cb828c3321e122628a0ff98d8a52b176173161a6a6f1746b28f378a\",\n",
      "            \"imageTag\": \"1.4.0-gpu-py36-cu101-ubuntu16.04-v3.1-2020-03-19-21-17-22\"\n",
      "            \"imageDigest\": \"sha256:f36ab7089cb828c3321e122628a0ff98d8a52b176173161a6a6f1746b28f378a\",\n",
      "            \"imageTag\": \"1.4.0-gpu-py36-cu101-ubuntu16.04-v3.1\"\n",
      "            \"imageDigest\": \"sha256:04371d439d38113fb076727bdc3341c24719d7500779bd711989d68bdea9f795\",\n",
      "            \"imageDigest\": \"sha256:04371d439d38113fb076727bdc3341c24719d7500779bd711989d68bdea9f795\",\n",
      "            \"imageTag\": \"1.4.0-cpu-py36-ubuntu16.04-v3.0-2020-02-26-20-16-56\"\n",
      "            \"imageTag\": \"1.4.0-cpu-py36-ubuntu16.04-v3.0\"\n",
      "            \"imageDigest\": \"sha256:a9be3420461547ad4f289c0cedaa8c33f77845b014748c32c0835070b4956c54\",\n",
      "            \"imageTag\": \"1.4-cpu-py36\"\n",
      "            \"imageDigest\": \"sha256:a9be3420461547ad4f289c0cedaa8c33f77845b014748c32c0835070b4956c54\",\n",
      "            \"imageTag\": \"1.4-cpu-py36-ubuntu16.04-v3\"\n",
      "            \"imageDigest\": \"sha256:a9be3420461547ad4f289c0cedaa8c33f77845b014748c32c0835070b4956c54\",\n",
      "            \"imageTag\": \"1.4.0-cpu-py3\"\n",
      "            \"imageDigest\": \"sha256:a9be3420461547ad4f289c0cedaa8c33f77845b014748c32c0835070b4956c54\",\n",
      "            \"imageTag\": \"1.4.0-cpu-py36-ubuntu16.04\"\n",
      "            \"imageDigest\": \"sha256:a9be3420461547ad4f289c0cedaa8c33f77845b014748c32c0835070b4956c54\",\n",
      "            \"imageTag\": \"1.4.0-cpu-py36-ubuntu16.04-v3.4\"\n",
      "            \"imageDigest\": \"sha256:a9be3420461547ad4f289c0cedaa8c33f77845b014748c32c0835070b4956c54\",\n",
      "            \"imageTag\": \"1.4-cpu-py3\"\n",
      "            \"imageDigest\": \"sha256:a9be3420461547ad4f289c0cedaa8c33f77845b014748c32c0835070b4956c54\",\n",
      "            \"imageTag\": \"1.4.0-cpu-py36-ubuntu16.04-v3.4-2021-03-11-04-52-50\"\n",
      "            \"imageDigest\": \"sha256:a9be3420461547ad4f289c0cedaa8c33f77845b014748c32c0835070b4956c54\",\n",
      "            \"imageTag\": \"1.4.0-cpu-py36\"\n",
      "            \"imageTag\": \"1.6.0-gpu-py36-cu101-ubuntu16.04-v1.3-2020-08-27-15-01-42\"\n",
      "            \"imageDigest\": \"sha256:ee6910f0e51e3bcd36a0f9be34d1347edfb26683607a7a9bdff3e5dc54b54dbe\",\n",
      "            \"imageDigest\": \"sha256:ee6910f0e51e3bcd36a0f9be34d1347edfb26683607a7a9bdff3e5dc54b54dbe\",\n",
      "            \"imageDigest\": \"sha256:ee6910f0e51e3bcd36a0f9be34d1347edfb26683607a7a9bdff3e5dc54b54dbe\",\n",
      "            \"imageDigest\": \"sha256:ee6910f0e51e3bcd36a0f9be34d1347edfb26683607a7a9bdff3e5dc54b54dbe\",\n",
      "            \"imageDigest\": \"sha256:ee6910f0e51e3bcd36a0f9be34d1347edfb26683607a7a9bdff3e5dc54b54dbe\",\n",
      "            \"imageTag\": \"1.4.0-gpu-py27-cu101-ubuntu16.04-v3.1\"\n",
      "            \"imageTag\": \"1.4.0-gpu-py27-cu101-ubuntu16.04-v3.1-2020-03-19-21-17-21\"\n",
      "    \"NextToken\": \"eyJuZXh0VG9rZW4iOiAiWmQ0bHlMYlZPYmdtWjFHeUp2Ynp4bzZZOGwrUjQyb0Y2eG1XNzREK2xqbEFQdzdlWDRmMWp3WUJUVnVvLzkyQ2ZKdDBhbzMwajVJR1AzMzgvcnUrL0dUQUxWQUFwcWNXMWhWaGk0TTBrMG0xbXNlWHpzZTFUOTNhUzJhbjh1TzdCbnZ3RmIwQTVWVGdzblU0QmhmQW5IbU1CTkx2MnozalRZWjJLL1F4eXRrOTRXcUltUDVOUzNFVy80WFNIK3BSajJYQXoya0o3SjY0S1B5ZmlsNXJyRUx3YWxhU1ZBaGs2YWtlbGtHeko2R0V4NHZYUVBFZEwvVUJkK1gwek1EODl0MlVXcEF1cTVsOUptRG4zNytmb2ZXL3RxRFFVZFBwbk9RbFVBMS9kaFVVZEIvdW82Nm1XQWhQSFc2UDVxZ2hzdFNielpaRTJMcHhFd0NwR2ltVXptUGwzWkN1ZmZWMTh1SXhpcGhIQjZmOXFEQndnY3lzWE40d29wam96L0pvdksxRWxtdkVad0xLWkpaaUc4c0U4VzFVcUt0cTN4eDF1bzhORVdnbitGYk9IZ0FxSlJ2YS9qcG1XVGpIbys2eiJ9\"\n"
     ]
    }
   ],
   "source": [
    "! aws ecr list-images --repository-name pytorch-training --registry-id 763104351884 --max-items 100 | grep 1.4"
   ]
  },
  {
   "cell_type": "code",
   "execution_count": null,
   "id": "b7b1487c",
   "metadata": {},
   "outputs": [],
   "source": []
  }
 ],
 "metadata": {
  "kernelspec": {
   "display_name": "conda_python3",
   "language": "python",
   "name": "conda_python3"
  },
  "language_info": {
   "codemirror_mode": {
    "name": "ipython",
    "version": 3
   },
   "file_extension": ".py",
   "mimetype": "text/x-python",
   "name": "python",
   "nbconvert_exporter": "python",
   "pygments_lexer": "ipython3",
   "version": "3.6.13"
  }
 },
 "nbformat": 4,
 "nbformat_minor": 5
}
