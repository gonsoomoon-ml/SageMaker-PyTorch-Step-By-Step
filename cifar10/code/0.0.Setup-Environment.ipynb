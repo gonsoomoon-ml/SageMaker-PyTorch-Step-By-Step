{
 "cells": [
  {
   "cell_type": "markdown",
   "id": "3786bf36",
   "metadata": {},
   "source": [
    "# [Module 0.0] 환경 셋업\n",
    "\n",
    "본 워크샵의 모든 노트북은 `conda_python3` 추가 패키지를 설치하고 모두 이 커널 에서 작업 합니다."
   ]
  },
  {
   "cell_type": "markdown",
   "id": "bd7fea4c",
   "metadata": {},
   "source": [
    "# 환경 셋업\n",
    "- conda_python3 커널에 torch==1.6.0 등을 설치합니다.\n",
    "- [중요] 이 버전은 훈련시 파이토치 프레임워크 도커 컨테이너와 버전과 동일 합니다. "
   ]
  },
  {
   "cell_type": "code",
   "execution_count": 1,
   "id": "5d387605",
   "metadata": {},
   "outputs": [
    {
     "name": "stdout",
     "output_type": "stream",
     "text": [
      "torch==1.6.0\n",
      "torchvision==0.7.0\n",
      "torchsummary==1.5.1\n",
      "# sagemaker_inference==1.5.5\n"
     ]
    }
   ],
   "source": [
    "requirements_code = 'source/requirements.txt'\n",
    "!pygmentize {requirements_code}"
   ]
  },
  {
   "cell_type": "code",
   "execution_count": 2,
   "id": "90d319b4",
   "metadata": {},
   "outputs": [
    {
     "name": "stdout",
     "output_type": "stream",
     "text": [
      "Collecting torch==1.6.0\n",
      "  Downloading torch-1.6.0-cp36-cp36m-manylinux1_x86_64.whl (748.8 MB)\n",
      "\u001b[K     |████████████████████████████████| 748.8 MB 6.1 kB/s  eta 0:00:01  |▍                               | 9.1 MB 1.7 MB/s eta 0:07:05     |██████                          | 140.4 MB 60.5 MB/s eta 0:00:11     |██████████▊                     | 249.7 MB 41.2 MB/s eta 0:00:13     |████████████████████████        | 560.9 MB 26.8 MB/s eta 0:00:08\n",
      "\u001b[?25hCollecting torchvision==0.7.0\n",
      "  Downloading torchvision-0.7.0-cp36-cp36m-manylinux1_x86_64.whl (5.9 MB)\n",
      "\u001b[K     |████████████████████████████████| 5.9 MB 65.1 MB/s eta 0:00:01\n",
      "\u001b[?25hCollecting torchsummary==1.5.1\n",
      "  Downloading torchsummary-1.5.1-py3-none-any.whl (2.8 kB)\n",
      "Requirement already satisfied: future in /home/ec2-user/anaconda3/envs/python3/lib/python3.6/site-packages (from torch==1.6.0->-r source/requirements.txt (line 1)) (0.18.2)\n",
      "Requirement already satisfied: numpy in /home/ec2-user/anaconda3/envs/python3/lib/python3.6/site-packages (from torch==1.6.0->-r source/requirements.txt (line 1)) (1.19.5)\n",
      "Requirement already satisfied: pillow>=4.1.1 in /home/ec2-user/anaconda3/envs/python3/lib/python3.6/site-packages (from torchvision==0.7.0->-r source/requirements.txt (line 2)) (8.2.0)\n",
      "Installing collected packages: torch, torchvision, torchsummary\n",
      "Successfully installed torch-1.6.0 torchsummary-1.5.1 torchvision-0.7.0\n",
      "\u001b[33mWARNING: You are using pip version 21.1.2; however, version 21.2.1 is available.\n",
      "You should consider upgrading via the '/home/ec2-user/anaconda3/envs/python3/bin/python -m pip install --upgrade pip' command.\u001b[0m\n"
     ]
    }
   ],
   "source": [
    "! pip install -r source/requirements.txt"
   ]
  },
  {
   "cell_type": "code",
   "execution_count": 3,
   "id": "a558ff73",
   "metadata": {},
   "outputs": [
    {
     "name": "stdout",
     "output_type": "stream",
     "text": [
      "torch version:  1.6.0\n",
      "torchvision version:  0.7.0\n"
     ]
    }
   ],
   "source": [
    "import torch\n",
    "import torchvision as tv\n",
    "print(\"torch version: \", torch.__version__)\n",
    "print(\"torchvision version: \", tv.__version__)"
   ]
  },
  {
   "cell_type": "markdown",
   "id": "283d36ca",
   "metadata": {},
   "source": [
    "## 기본 폴더 생성\n",
    "- 추후에 노트북에서 사용팔 폴더를 생성을 합니다."
   ]
  },
  {
   "cell_type": "code",
   "execution_count": 6,
   "id": "1c5cfa0a",
   "metadata": {},
   "outputs": [],
   "source": [
    "import os\n",
    "\n",
    "# 로컬 데이터 폴더 생성\n",
    "local_data_dir = '../data'\n",
    "os.makedirs(local_data_dir, exist_ok=True)\n",
    "\n",
    "# 로컬 모델 저장 폴더 생성\n",
    "local_model_dir = '../model/scratch'\n",
    "os.makedirs(local_model_dir, exist_ok=True)"
   ]
  },
  {
   "cell_type": "code",
   "execution_count": 7,
   "id": "3c603db7",
   "metadata": {},
   "outputs": [
    {
     "name": "stdout",
     "output_type": "stream",
     "text": [
      "Stored 'local_model_dir' (str)\n"
     ]
    }
   ],
   "source": [
    "%store local_model_dir"
   ]
  },
  {
   "cell_type": "code",
   "execution_count": null,
   "id": "8add9673",
   "metadata": {},
   "outputs": [],
   "source": []
  }
 ],
 "metadata": {
  "kernelspec": {
   "display_name": "conda_python3",
   "language": "python",
   "name": "conda_python3"
  },
  "language_info": {
   "codemirror_mode": {
    "name": "ipython",
    "version": 3
   },
   "file_extension": ".py",
   "mimetype": "text/x-python",
   "name": "python",
   "nbconvert_exporter": "python",
   "pygments_lexer": "ipython3",
   "version": "3.6.13"
  }
 },
 "nbformat": 4,
 "nbformat_minor": 5
}
