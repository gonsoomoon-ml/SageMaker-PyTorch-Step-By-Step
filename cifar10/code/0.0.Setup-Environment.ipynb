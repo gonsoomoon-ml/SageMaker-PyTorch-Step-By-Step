{
 "cells": [
  {
   "cell_type": "markdown",
   "id": "3938cc36",
   "metadata": {},
   "source": [
    "# [Module 0.0] 환경 셋업\n",
    "\n",
    "본 워크샵의 모든 노트북은 `conda_python3` 추가 패키지를 설치하고 모두 이 커널 에서 작업 합니다."
   ]
  },
  {
   "cell_type": "markdown",
   "id": "d5e60ca9",
   "metadata": {},
   "source": [
    "# 환경 셋업"
   ]
  },
  {
   "cell_type": "code",
   "execution_count": 1,
   "id": "0e17e9d1",
   "metadata": {},
   "outputs": [
    {
     "name": "stdout",
     "output_type": "stream",
     "text": [
      "Requirement already satisfied: torch==1.6.0 in /home/ec2-user/anaconda3/envs/python3/lib/python3.6/site-packages (from -r source/requirements.txt (line 1)) (1.6.0)\n",
      "Requirement already satisfied: torchvision==0.7.0 in /home/ec2-user/anaconda3/envs/python3/lib/python3.6/site-packages (from -r source/requirements.txt (line 2)) (0.7.0)\n",
      "Requirement already satisfied: torchsummary==1.5.1 in /home/ec2-user/anaconda3/envs/python3/lib/python3.6/site-packages (from -r source/requirements.txt (line 3)) (1.5.1)\n",
      "Requirement already satisfied: future in /home/ec2-user/anaconda3/envs/python3/lib/python3.6/site-packages (from torch==1.6.0->-r source/requirements.txt (line 1)) (0.18.2)\n",
      "Requirement already satisfied: numpy in /home/ec2-user/anaconda3/envs/python3/lib/python3.6/site-packages (from torch==1.6.0->-r source/requirements.txt (line 1)) (1.19.5)\n",
      "Requirement already satisfied: pillow>=4.1.1 in /home/ec2-user/anaconda3/envs/python3/lib/python3.6/site-packages (from torchvision==0.7.0->-r source/requirements.txt (line 2)) (7.2.0)\n"
     ]
    }
   ],
   "source": [
    "! pip install -r source/requirements.txt"
   ]
  },
  {
   "cell_type": "code",
   "execution_count": 2,
   "id": "f2d1f428",
   "metadata": {},
   "outputs": [
    {
     "name": "stdout",
     "output_type": "stream",
     "text": [
      "torch version:  1.6.0\n",
      "torchvision version:  0.7.0\n"
     ]
    }
   ],
   "source": [
    "import torch\n",
    "import torchvision as tv\n",
    "print(\"torch version: \", torch.__version__)\n",
    "print(\"torchvision version: \", tv.__version__)"
   ]
  },
  {
   "cell_type": "markdown",
   "id": "2af5ea9b",
   "metadata": {},
   "source": [
    "## 기본 폴더 생성"
   ]
  },
  {
   "cell_type": "code",
   "execution_count": 6,
   "id": "085a5bf2",
   "metadata": {},
   "outputs": [],
   "source": [
    "import os\n",
    "local_model_dir = '../model/scratch'\n",
    "os.makedirs(local_model_dir, exist_ok=True)"
   ]
  },
  {
   "cell_type": "code",
   "execution_count": 7,
   "id": "d44c475d",
   "metadata": {},
   "outputs": [
    {
     "name": "stdout",
     "output_type": "stream",
     "text": [
      "Stored 'local_model_dir' (str)\n"
     ]
    }
   ],
   "source": [
    "%store local_model_dir"
   ]
  },
  {
   "cell_type": "code",
   "execution_count": null,
   "id": "e78f69a7",
   "metadata": {},
   "outputs": [],
   "source": []
  }
 ],
 "metadata": {
  "kernelspec": {
   "display_name": "conda_python3",
   "language": "python",
   "name": "conda_python3"
  },
  "language_info": {
   "codemirror_mode": {
    "name": "ipython",
    "version": 3
   },
   "file_extension": ".py",
   "mimetype": "text/x-python",
   "name": "python",
   "nbconvert_exporter": "python",
   "pygments_lexer": "ipython3",
   "version": "3.6.13"
  }
 },
 "nbformat": 4,
 "nbformat_minor": 5
}
