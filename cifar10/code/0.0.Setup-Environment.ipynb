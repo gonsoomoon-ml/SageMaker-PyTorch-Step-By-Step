{
 "cells": [
  {
   "cell_type": "markdown",
   "id": "03d67212",
   "metadata": {},
   "source": [
    "# [Module 0.0] 환경 셋업\n",
    "\n",
    "본 워크샵의 모든 노트북은 `conda_python3` 추가 패키지를 설치하고 모두 이 커널 에서 작업 합니다."
   ]
  },
  {
   "cell_type": "markdown",
   "id": "f8d4cfde",
   "metadata": {},
   "source": [
    "# 환경 셋업"
   ]
  },
  {
   "cell_type": "code",
   "execution_count": 16,
   "id": "86c40b60",
   "metadata": {},
   "outputs": [
    {
     "name": "stdout",
     "output_type": "stream",
     "text": [
      "torch==1.6.0\n",
      "torchvision==0.7.0\n",
      "torchsummary==1.5.1\n",
      "# sagemaker_inference==1.5.5\n"
     ]
    }
   ],
   "source": [
    "requirements_code = 'source/requirements.txt'\n",
    "!pygmentize {requirements_code}"
   ]
  },
  {
   "cell_type": "code",
   "execution_count": 17,
   "id": "2413c5ed",
   "metadata": {},
   "outputs": [
    {
     "name": "stdout",
     "output_type": "stream",
     "text": [
      "Requirement already satisfied: torch==1.6.0 in /home/ec2-user/anaconda3/envs/python3/lib/python3.6/site-packages (from -r source/requirements.txt (line 1)) (1.6.0)\n",
      "Requirement already satisfied: torchvision==0.7.0 in /home/ec2-user/anaconda3/envs/python3/lib/python3.6/site-packages (from -r source/requirements.txt (line 2)) (0.7.0)\n",
      "Collecting torchsummary==1.5.1\n",
      "  Downloading torchsummary-1.5.1-py3-none-any.whl (2.8 kB)\n",
      "Requirement already satisfied: future in /home/ec2-user/anaconda3/envs/python3/lib/python3.6/site-packages (from torch==1.6.0->-r source/requirements.txt (line 1)) (0.18.2)\n",
      "Requirement already satisfied: numpy in /home/ec2-user/anaconda3/envs/python3/lib/python3.6/site-packages (from torch==1.6.0->-r source/requirements.txt (line 1)) (1.19.5)\n",
      "Requirement already satisfied: pillow>=4.1.1 in /home/ec2-user/anaconda3/envs/python3/lib/python3.6/site-packages (from torchvision==0.7.0->-r source/requirements.txt (line 2)) (8.2.0)\n",
      "Installing collected packages: torchsummary\n",
      "Successfully installed torchsummary-1.5.1\n",
      "\u001b[33mWARNING: You are using pip version 21.1.2; however, version 21.2.1 is available.\n",
      "You should consider upgrading via the '/home/ec2-user/anaconda3/envs/python3/bin/python -m pip install --upgrade pip' command.\u001b[0m\n"
     ]
    }
   ],
   "source": [
    "! pip install -r source/requirements.txt"
   ]
  },
  {
   "cell_type": "code",
   "execution_count": 13,
   "id": "cae78eb1",
   "metadata": {},
   "outputs": [
    {
     "name": "stdout",
     "output_type": "stream",
     "text": [
      "torch version:  1.6.0\n",
      "torchvision version:  0.7.0\n"
     ]
    }
   ],
   "source": [
    "import torch\n",
    "import torchvision as tv\n",
    "print(\"torch version: \", torch.__version__)\n",
    "print(\"torchvision version: \", tv.__version__)"
   ]
  },
  {
   "cell_type": "markdown",
   "id": "d4041b74",
   "metadata": {},
   "source": [
    "## 기본 폴더 생성"
   ]
  },
  {
   "cell_type": "code",
   "execution_count": 14,
   "id": "e57bacb7",
   "metadata": {},
   "outputs": [],
   "source": [
    "import os\n",
    "local_model_dir = '../model/scratch'\n",
    "os.makedirs(local_model_dir, exist_ok=True)"
   ]
  },
  {
   "cell_type": "code",
   "execution_count": 15,
   "id": "a9a0b269",
   "metadata": {},
   "outputs": [
    {
     "name": "stdout",
     "output_type": "stream",
     "text": [
      "Stored 'local_model_dir' (str)\n"
     ]
    }
   ],
   "source": [
    "%store local_model_dir"
   ]
  },
  {
   "cell_type": "code",
   "execution_count": null,
   "id": "079c1c14",
   "metadata": {},
   "outputs": [],
   "source": []
  }
 ],
 "metadata": {
  "kernelspec": {
   "display_name": "conda_python3",
   "language": "python",
   "name": "conda_python3"
  },
  "language_info": {
   "codemirror_mode": {
    "name": "ipython",
    "version": 3
   },
   "file_extension": ".py",
   "mimetype": "text/x-python",
   "name": "python",
   "nbconvert_exporter": "python",
   "pygments_lexer": "ipython3",
   "version": "3.6.13"
  }
 },
 "nbformat": 4,
 "nbformat_minor": 5
}
