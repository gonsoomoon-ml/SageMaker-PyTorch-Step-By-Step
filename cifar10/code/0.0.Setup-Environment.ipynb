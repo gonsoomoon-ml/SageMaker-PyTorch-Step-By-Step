{
 "cells": [
  {
   "cell_type": "markdown",
   "id": "0b2fe83c",
   "metadata": {},
   "source": [
    "# [Module 0.0] 환경 셋업\n",
    "\n",
    "본 워크샵의 모든 노트북은 `conda_python3` 추가 패키지를 설치하고 모두 이 커널 에서 작업 합니다."
   ]
  },
  {
   "cell_type": "markdown",
   "id": "68993e89",
   "metadata": {},
   "source": [
    "# 환경 셋업"
   ]
  },
  {
   "cell_type": "code",
   "execution_count": 1,
   "id": "66f6fa31",
   "metadata": {},
   "outputs": [
    {
     "name": "stdout",
     "output_type": "stream",
     "text": [
      "Collecting torch==1.6.0\n",
      "  Downloading torch-1.6.0-cp36-cp36m-manylinux1_x86_64.whl (748.8 MB)\n",
      "\u001b[K     |████████████████████████████████| 748.8 MB 6.1 kB/s  eta 0:00:01\n",
      "\u001b[?25hCollecting torchvision==0.7.0\n",
      "  Downloading torchvision-0.7.0-cp36-cp36m-manylinux1_x86_64.whl (5.9 MB)\n",
      "\u001b[K     |████████████████████████████████| 5.9 MB 21.5 MB/s eta 0:00:01\n",
      "\u001b[?25hCollecting torchsummary==1.5.1\n",
      "  Downloading torchsummary-1.5.1-py3-none-any.whl (2.8 kB)\n",
      "Collecting sagemaker_inference==1.5.5\n",
      "  Downloading sagemaker_inference-1.5.5.tar.gz (20 kB)\n",
      "Requirement already satisfied: numpy in /home/ec2-user/anaconda3/envs/python3/lib/python3.6/site-packages (from torch==1.6.0->-r source/requirements.txt (line 1)) (1.19.5)\n",
      "Requirement already satisfied: future in /home/ec2-user/anaconda3/envs/python3/lib/python3.6/site-packages (from torch==1.6.0->-r source/requirements.txt (line 1)) (0.18.2)\n",
      "Requirement already satisfied: pillow>=4.1.1 in /home/ec2-user/anaconda3/envs/python3/lib/python3.6/site-packages (from torchvision==0.7.0->-r source/requirements.txt (line 2)) (8.2.0)\n",
      "Requirement already satisfied: six in /home/ec2-user/anaconda3/envs/python3/lib/python3.6/site-packages (from sagemaker_inference==1.5.5->-r source/requirements.txt (line 4)) (1.15.0)\n",
      "Requirement already satisfied: psutil in /home/ec2-user/anaconda3/envs/python3/lib/python3.6/site-packages (from sagemaker_inference==1.5.5->-r source/requirements.txt (line 4)) (5.8.0)\n",
      "Requirement already satisfied: retrying==1.3.3 in /home/ec2-user/anaconda3/envs/python3/lib/python3.6/site-packages (from sagemaker_inference==1.5.5->-r source/requirements.txt (line 4)) (1.3.3)\n",
      "Requirement already satisfied: scipy in /home/ec2-user/anaconda3/envs/python3/lib/python3.6/site-packages (from sagemaker_inference==1.5.5->-r source/requirements.txt (line 4)) (1.5.3)\n",
      "Building wheels for collected packages: sagemaker-inference\n",
      "  Building wheel for sagemaker-inference (setup.py) ... \u001b[?25ldone\n",
      "\u001b[?25h  Created wheel for sagemaker-inference: filename=sagemaker_inference-1.5.5-py2.py3-none-any.whl size=26977 sha256=da100fc82b203af7395080a8ebe5607aaf196818c080cd77255f39695139d8fe\n",
      "  Stored in directory: /home/ec2-user/.cache/pip/wheels/a4/bf/81/8e084e445a44e9fbc9d64efc7afb2a660ecd06285ea4a51fa0\n",
      "Successfully built sagemaker-inference\n",
      "Installing collected packages: torch, torchvision, torchsummary, sagemaker-inference\n",
      "Successfully installed sagemaker-inference-1.5.5 torch-1.6.0 torchsummary-1.5.1 torchvision-0.7.0\n"
     ]
    }
   ],
   "source": [
    "! pip install -r source/requirements.txt"
   ]
  },
  {
   "cell_type": "code",
   "execution_count": 2,
   "id": "4e5d540e",
   "metadata": {},
   "outputs": [
    {
     "name": "stdout",
     "output_type": "stream",
     "text": [
      "torch version:  1.6.0\n",
      "torchvision version:  0.7.0\n"
     ]
    }
   ],
   "source": [
    "import torch\n",
    "import torchvision as tv\n",
    "import sagemaker_inference\n",
    "print(\"torch version: \", torch.__version__)\n",
    "print(\"torchvision version: \", tv.__version__)"
   ]
  },
  {
   "cell_type": "markdown",
   "id": "abb31917",
   "metadata": {},
   "source": [
    "## 기본 폴더 생성"
   ]
  },
  {
   "cell_type": "code",
   "execution_count": 3,
   "id": "49ff982a",
   "metadata": {},
   "outputs": [],
   "source": [
    "import os\n",
    "local_model_dir = '../model/scratch'\n",
    "os.makedirs(local_model_dir, exist_ok=True)"
   ]
  },
  {
   "cell_type": "code",
   "execution_count": 4,
   "id": "a4516465",
   "metadata": {},
   "outputs": [
    {
     "name": "stdout",
     "output_type": "stream",
     "text": [
      "Stored 'local_model_dir' (str)\n"
     ]
    }
   ],
   "source": [
    "%store local_model_dir"
   ]
  },
  {
   "cell_type": "code",
   "execution_count": null,
   "id": "a9bef483",
   "metadata": {},
   "outputs": [],
   "source": []
  }
 ],
 "metadata": {
  "kernelspec": {
   "display_name": "conda_python3",
   "language": "python",
   "name": "conda_python3"
  },
  "language_info": {
   "codemirror_mode": {
    "name": "ipython",
    "version": 3
   },
   "file_extension": ".py",
   "mimetype": "text/x-python",
   "name": "python",
   "nbconvert_exporter": "python",
   "pygments_lexer": "ipython3",
   "version": "3.6.13"
  }
 },
 "nbformat": 4,
 "nbformat_minor": 5
}
