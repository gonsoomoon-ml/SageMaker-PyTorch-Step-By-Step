{
 "cells": [
  {
   "cell_type": "markdown",
   "id": "283d30f1",
   "metadata": {},
   "source": [
    "# [Module 0.0] 환경 셋업\n",
    "\n",
    "본 워크샵의 모든 노트북은 `conda_python3` 추가 패키지를 설치하고 모두 이 커널 에서 작업 합니다."
   ]
  },
  {
   "cell_type": "markdown",
   "id": "c0bf3a42",
   "metadata": {},
   "source": [
    "# 환경 셋업\n",
    "- conda_python3 커널에 torch==1.6.0 등을 설치합니다.\n",
    "- [중요] 이 버전은 훈련시 파이토치 프레임워크 도커 컨테이너와 버전과 동일 합니다. "
   ]
  },
  {
   "cell_type": "code",
   "execution_count": 1,
   "id": "3c47da04",
   "metadata": {},
   "outputs": [
    {
     "name": "stdout",
     "output_type": "stream",
     "text": [
      "torch==1.6.0\n",
      "torchvision==0.7.0\n",
      "torchsummary==1.5.1\n",
      "# sagemaker_inference==1.5.5\n"
     ]
    }
   ],
   "source": [
    "requirements_code = 'source/requirements.txt'\n",
    "!pygmentize {requirements_code}"
   ]
  },
  {
   "cell_type": "code",
   "execution_count": 2,
   "id": "9cd1a388",
   "metadata": {},
   "outputs": [
    {
     "name": "stdout",
     "output_type": "stream",
     "text": [
      "Collecting torch==1.6.0\n",
      "  Downloading torch-1.6.0-cp36-cp36m-manylinux1_x86_64.whl (748.8 MB)\n",
      "\u001b[K     |███████████████████████▋        | 552.0 MB 86.7 MB/s eta 0:00:03     |████▍                           | 103.8 MB 60.6 MB/s eta 0:00:11     |██████▍                         | 149.6 MB 59.5 MB/s eta 0:00:11     |██████▊                         | 156.7 MB 59.5 MB/s eta 0:00:10     |█████████████▌                  | 314.9 MB 93.4 MB/s eta 0:00:05"
     ]
    },
    {
     "name": "stderr",
     "output_type": "stream",
     "text": [
      "IOPub data rate exceeded.\n",
      "The notebook server will temporarily stop sending output\n",
      "to the client in order to avoid crashing it.\n",
      "To change this limit, set the config variable\n",
      "`--NotebookApp.iopub_data_rate_limit`.\n",
      "\n",
      "Current values:\n",
      "NotebookApp.iopub_data_rate_limit=1000000.0 (bytes/sec)\n",
      "NotebookApp.rate_limit_window=3.0 (secs)\n",
      "\n"
     ]
    },
    {
     "name": "stdout",
     "output_type": "stream",
     "text": [
      "\u001b[K     |████████████████████████████████| 748.8 MB 5.9 kB/s  eta 0:00:01\n",
      "\u001b[?25hCollecting torchvision==0.7.0\n",
      "  Downloading torchvision-0.7.0-cp36-cp36m-manylinux1_x86_64.whl (5.9 MB)\n",
      "\u001b[K     |████████████████████████████████| 5.9 MB 28.7 MB/s eta 0:00:01\n",
      "\u001b[?25hCollecting torchsummary==1.5.1\n",
      "  Downloading torchsummary-1.5.1-py3-none-any.whl (2.8 kB)\n",
      "Requirement already satisfied: future in /home/ec2-user/anaconda3/envs/python3/lib/python3.6/site-packages (from torch==1.6.0->-r source/requirements.txt (line 1)) (0.18.2)\n",
      "Requirement already satisfied: numpy in /home/ec2-user/anaconda3/envs/python3/lib/python3.6/site-packages (from torch==1.6.0->-r source/requirements.txt (line 1)) (1.19.5)\n",
      "Requirement already satisfied: pillow>=4.1.1 in /home/ec2-user/anaconda3/envs/python3/lib/python3.6/site-packages (from torchvision==0.7.0->-r source/requirements.txt (line 2)) (8.3.2)\n",
      "Installing collected packages: torch, torchvision, torchsummary\n",
      "Successfully installed torch-1.6.0 torchsummary-1.5.1 torchvision-0.7.0\n"
     ]
    }
   ],
   "source": [
    "! pip install -r source/requirements.txt"
   ]
  },
  {
   "cell_type": "code",
   "execution_count": 3,
   "id": "bf1f1f7b",
   "metadata": {},
   "outputs": [
    {
     "name": "stdout",
     "output_type": "stream",
     "text": [
      "torch version:  1.6.0\n",
      "torchvision version:  0.7.0\n"
     ]
    }
   ],
   "source": [
    "import torch\n",
    "import torchvision as tv\n",
    "print(\"torch version: \", torch.__version__)\n",
    "print(\"torchvision version: \", tv.__version__)"
   ]
  },
  {
   "cell_type": "markdown",
   "id": "691b2ee7",
   "metadata": {},
   "source": [
    "## 기본 폴더 생성\n",
    "- 추후에 노트북에서 사용팔 폴더를 생성을 합니다."
   ]
  },
  {
   "cell_type": "code",
   "execution_count": 4,
   "id": "53df855b",
   "metadata": {},
   "outputs": [],
   "source": [
    "import os\n",
    "\n",
    "# 로컬 데이터 폴더 생성\n",
    "local_data_dir = '../data'\n",
    "os.makedirs(local_data_dir, exist_ok=True)\n",
    "\n",
    "# 로컬 모델 저장 폴더 생성\n",
    "local_model_dir = '../model/scratch'\n",
    "os.makedirs(local_model_dir, exist_ok=True)"
   ]
  },
  {
   "cell_type": "code",
   "execution_count": 5,
   "id": "3f3e27d2",
   "metadata": {},
   "outputs": [
    {
     "name": "stdout",
     "output_type": "stream",
     "text": [
      "Stored 'local_model_dir' (str)\n"
     ]
    }
   ],
   "source": [
    "%store local_model_dir"
   ]
  },
  {
   "cell_type": "code",
   "execution_count": null,
   "id": "ef6ab76a",
   "metadata": {},
   "outputs": [],
   "source": []
  }
 ],
 "metadata": {
  "kernelspec": {
   "display_name": "conda_python3",
   "language": "python",
   "name": "conda_python3"
  },
  "language_info": {
   "codemirror_mode": {
    "name": "ipython",
    "version": 3
   },
   "file_extension": ".py",
   "mimetype": "text/x-python",
   "name": "python",
   "nbconvert_exporter": "python",
   "pygments_lexer": "ipython3",
   "version": "3.6.13"
  }
 },
 "nbformat": 4,
 "nbformat_minor": 5
}
