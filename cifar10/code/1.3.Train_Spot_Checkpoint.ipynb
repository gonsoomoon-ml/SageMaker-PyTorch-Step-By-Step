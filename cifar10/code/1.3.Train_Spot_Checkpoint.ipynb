{
 "cells": [
  {
   "cell_type": "markdown",
   "id": "8532ad4c",
   "metadata": {},
   "source": [
    "# [Module 1.3] 체크 포인트를 생성을 통한 스팟 인스턴스 훈련\n",
    "\n",
    "### 본 워크샵의 모든 노트북은 `conda_python3` 여기에서 작업 합니다.\n",
    "\n",
    "이 노트북은 아래와 같은 작업을 합니다.\n",
    "- 체크포인트를 사용하는 방법\n",
    "- 기본 환경 세팅\n",
    "- 데이터 세트를 S3에 업로드\n",
    "- 체크 포인트를 사용한 훈련 시니라오\n",
    "    - 첫 번째 훈련 잡 실행\n",
    "    - 두 번째 훈련 잡 실행\n",
    "- 훈련 잡 로그 분석\n",
    "- 모델 아티펙트 저장\n",
    "\n",
    "---"
   ]
  },
  {
   "cell_type": "markdown",
   "id": "153de1d6",
   "metadata": {},
   "source": [
    "## 세이지 메이커에서 체크포인트를 사용하는 방법\n",
    "\n",
    "개발자 가이드 --> [체코 포인트 사용하기](https://docs.aws.amazon.com/ko_kr/sagemaker/latest/dg/model-checkpoints.html)\n",
    "\n",
    "![checkpoint_how.png](img/checkpoint_how.png)"
   ]
  },
  {
   "cell_type": "markdown",
   "id": "d38d5b2c",
   "metadata": {},
   "source": [
    "## 기본 세팅\n",
    "사용하는 패키지는 import 시점에 다시 재로딩 합니다."
   ]
  },
  {
   "cell_type": "code",
   "execution_count": 1,
   "id": "e592cc3a",
   "metadata": {},
   "outputs": [],
   "source": [
    "%load_ext autoreload\n",
    "%autoreload 2"
   ]
  },
  {
   "cell_type": "code",
   "execution_count": 2,
   "id": "2d51b820",
   "metadata": {},
   "outputs": [
    {
     "name": "stdout",
     "output_type": "stream",
     "text": [
      "SageMaker version: 2.45.0\n"
     ]
    }
   ],
   "source": [
    "import sagemaker\n",
    "import uuid\n",
    "\n",
    "sagemaker_session = sagemaker.Session()\n",
    "print('SageMaker version: ' + sagemaker.__version__)\n",
    "\n",
    "bucket = sagemaker_session.default_bucket()\n",
    "prefix = 'sagemaker/DEMO-pytorch-cnn-cifar10'\n",
    "\n",
    "role = sagemaker.get_execution_role()\n"
   ]
  },
  {
   "cell_type": "markdown",
   "id": "dc4c61f1",
   "metadata": {},
   "source": [
    "### 체크 포인트 파일 저장 경로\n",
    "- S3에 체크포인트 경로를 지정합니다."
   ]
  },
  {
   "cell_type": "code",
   "execution_count": 3,
   "id": "0a6e5c38",
   "metadata": {},
   "outputs": [
    {
     "name": "stdout",
     "output_type": "stream",
     "text": [
      "Checkpointing Path: s3://sagemaker-ap-northeast-2-057716757052/checkpoint-a7316680\n"
     ]
    }
   ],
   "source": [
    "checkpoint_suffix = str(uuid.uuid4())[:8]\n",
    "checkpoint_s3_path = 's3://{}/checkpoint-{}'.format(bucket, checkpoint_suffix)\n",
    "\n",
    "print('Checkpointing Path: {}'.format(checkpoint_s3_path))"
   ]
  },
  {
   "cell_type": "markdown",
   "id": "38e2348b",
   "metadata": {},
   "source": [
    "#### 로컬의 GPU, CPU 여부로 instance_type 결정"
   ]
  },
  {
   "cell_type": "code",
   "execution_count": 4,
   "id": "4a5d0ea4",
   "metadata": {},
   "outputs": [
    {
     "name": "stdout",
     "output_type": "stream",
     "text": [
      "Instance type = local_gpu\n"
     ]
    }
   ],
   "source": [
    "import os\n",
    "import subprocess\n",
    "\n",
    "\n",
    "try:\n",
    "    if subprocess.call(\"nvidia-smi\") == 0:\n",
    "        ## Set type to GPU if one is present\n",
    "        instance_type = \"local_gpu\"\n",
    "    else:\n",
    "        instance_type = \"local\"        \n",
    "except:\n",
    "    pass\n",
    "\n",
    "print(\"Instance type = \" + instance_type)"
   ]
  },
  {
   "cell_type": "markdown",
   "id": "eaca7ad6",
   "metadata": {},
   "source": [
    "### 데이터 세트를 S3에 업로드\n"
   ]
  },
  {
   "cell_type": "code",
   "execution_count": 5,
   "id": "0e102d52",
   "metadata": {},
   "outputs": [
    {
     "name": "stdout",
     "output_type": "stream",
     "text": [
      "s3 inputs:  s3://sagemaker-ap-northeast-2-057716757052/data/cifar10\n"
     ]
    }
   ],
   "source": [
    "inputs = sagemaker_session.upload_data(path=\"../data\", bucket=bucket, key_prefix=\"data/cifar10\")\n",
    "print(\"s3 inputs: \", inputs)"
   ]
  },
  {
   "cell_type": "markdown",
   "id": "9675e3a2",
   "metadata": {},
   "source": [
    "## 체크포인트를 이용한 훈련 시나리오\n",
    "총 훈련 작업은 10개의 epoch 까지를 실행을 합니다. 아래와 같이 두개의 훈련 잡을 통해서 합니다.\n",
    "- 첫번째의 훈련잡은 5 epoch 까지만을 실행 합니다.\n",
    "    - 매번의 epoch 마다 checkpoint 파일을 S3의  checkpoint_s3_uri 에 저장합니다.\n",
    "    \n",
    "    \n",
    "```python\n",
    "def _save_checkpoint(model, optimizer, epoch, loss, args):\n",
    "    print(\"epoch: {} - loss: {}\".format(epoch+1, loss))\n",
    "    checkpointing_path = args.checkpoint_path + '/checkpoint.pth'\n",
    "    print(\"Saving the Checkpoint: {}\".format(checkpointing_path))\n",
    "    torch.save({\n",
    "        'epoch': epoch+1,\n",
    "        'model_state_dict': model.state_dict(),\n",
    "        'optimizer_state_dict': optimizer.state_dict(),\n",
    "        'loss': loss,\n",
    "        }, checkpointing_path)\n",
    "\n",
    "\n",
    "```\n",
    "- 두번째의 훈련잡은 6 epoch 부터 10 epoch 까지 실행합니다.\n",
    "    - 훈련이 시작시에  checkpoint_s3_uri 에서 마지막 훈련 결과(가중치)를 가져와서 모델에 로딩한 후에 시작 합니다.\n",
    "\n",
    "### 스팟 인스턴스 훈련 시나리오\n",
    "- 스팟 인스턴스로 훈련을 하다가 이 리소스가 다른 유저에게 빼앗기면, 훈련이 중단되고 스팟 인스턴스가 다시 사용가능할때에, checkpoint_s3_uri 에서 마지막 저장된 체크포인트를 가져와서 다시 훈련을 재개 합니다. \n",
    "- 상세 사항은 개발자 가이드를 보세요. --> [관리형 스팟 교육](https://docs.aws.amazon.com/ko_kr/sagemaker/latest/dg/model-managed-spot-training.html)\n",
    "\n",
    "#### 체크포인트를 S3에 성공적으로 복사하려면 debugger_hook_config 매개 변수를 False로 설정해야 합니다. \n",
    "\n"
   ]
  },
  {
   "cell_type": "markdown",
   "id": "4e791dff",
   "metadata": {},
   "source": [
    "### 첫 번째 훈련 잡을 실행\n",
    "- 스팟 인스턴스에 필요한 인자를 설정 합니다.\n",
    "- 5 epochs 까지를 훈련 합니다."
   ]
  },
  {
   "cell_type": "code",
   "execution_count": 6,
   "id": "c0c2e914",
   "metadata": {},
   "outputs": [],
   "source": [
    "use_spot_instances = True\n",
    "max_run=600\n",
    "max_wait = 1200 if use_spot_instances else None"
   ]
  },
  {
   "cell_type": "code",
   "execution_count": 7,
   "id": "672775cd",
   "metadata": {},
   "outputs": [],
   "source": [
    "hyperparameters = {'epochs': 5}\n",
    "\n",
    "from sagemaker.pytorch import PyTorch\n",
    "spot_estimator = PyTorch(\n",
    "                            entry_point='cifar10.py',\n",
    "                            source_dir='source',                                                            \n",
    "                            role=role,\n",
    "                            framework_version='1.6.0',\n",
    "                            py_version='py3',\n",
    "                            instance_count=1,\n",
    "                            instance_type='ml.p3.2xlarge',\n",
    "                            base_job_name='cifar10-pytorch-spot-1',\n",
    "                            hyperparameters=hyperparameters,\n",
    "                            checkpoint_s3_uri=checkpoint_s3_path,\n",
    "                            debugger_hook_config=False,\n",
    "                            use_spot_instances=use_spot_instances,\n",
    "                            max_run=max_run,\n",
    "                            max_wait=max_wait)\n",
    "\n",
    "spot_estimator.fit(inputs, wait=False)"
   ]
  },
  {
   "cell_type": "code",
   "execution_count": null,
   "id": "fe5040e2",
   "metadata": {},
   "outputs": [
    {
     "name": "stdout",
     "output_type": "stream",
     "text": [
      "2021-07-29 03:59:33 Starting - Starting the training job...\n",
      "2021-07-29 03:59:34 Starting - Launching requested ML instancesProfilerReport-1627531172: InProgress\n",
      "......\n",
      "2021-07-29 04:00:58 Starting - Preparing the instances for training....."
     ]
    }
   ],
   "source": [
    "spot_estimator.logs()"
   ]
  },
  {
   "cell_type": "markdown",
   "id": "d6f86c54",
   "metadata": {},
   "source": [
    "### 세이지 메이커 콘솔에서 체크포인트 확인\n",
    "- 이제 SageMaker 콘솔에서 트레이닝 작업에서 체크포인트 구성을 직접 볼 수 있습니다.\n",
    "- SageMaker 콘솔에 로그인하고 최신 교육 작업을 선택한 다음 체크포인트 구성 섹션으로 스크롤합니다.\n",
    "- S3 출력 경로 링크를 선택하면 체크포인팅 데이터가 저장된 S3 버킷으로 연결됩니다.\n",
    "- 거기에 하나의 파일 (checkpoint.pth) 이 있음을 알 수 있습니다.\n",
    "\n",
    "![checkpoint_console-1.png](img/checkpoint_console.png)"
   ]
  },
  {
   "cell_type": "markdown",
   "id": "5eb5af99",
   "metadata": {},
   "source": [
    "### 두 번째 훈련 잡을 실행\n",
    "- 이전 체크포인트 이후 부터 6 epochs ~ 10 epochs 까지를 훈련 합니다.\n",
    "- 훈련 시작시에 다음의 단계가 진행 됩니다.\n",
    "    - 체크포인트 s3 위치에서 체크포인트 데이터를 확인\n",
    "    - 체크 포인트가 파일이 있을 경우 훈련 도커 컨테이너의 `/ opt/ml/체크포인트'에 복사됩니다.\n",
    "- 아래의 체크 포인트 로딩하는 함수를 참조 하세요.\n",
    "\n",
    "\n",
    "```python\n",
    "def _load_checkpoint(model, optimizer, args):\n",
    "    print(\"--------------------------------------------\")\n",
    "    print(\"Checkpoint file found!\")\n",
    "    print(\"Loading Checkpoint From: {}\".format(args.checkpoint_path + '/checkpoint.pth'))\n",
    "    checkpoint = torch.load(args.checkpoint_path + '/checkpoint.pth')\n",
    "    model.load_state_dict(checkpoint['model_state_dict'])\n",
    "    optimizer.load_state_dict(checkpoint['optimizer_state_dict'])\n",
    "    epoch_number = checkpoint['epoch']\n",
    "    loss = checkpoint['loss']\n",
    "    print(\"Checkpoint File Loaded - epoch_number: {} - loss: {}\".format(epoch_number, loss))\n",
    "    print('Resuming training from epoch: {}'.format(epoch_number+1))\n",
    "    print(\"--------------------------------------------\")\n",
    "    return model, optimizer, epoch_number\n",
    "```\n",
    "\n"
   ]
  },
  {
   "cell_type": "code",
   "execution_count": null,
   "id": "dd0f3ff7",
   "metadata": {},
   "outputs": [],
   "source": [
    "hyperparameters = {'epochs': 10}\n",
    "\n",
    "\n",
    "spot_estimator = PyTorch(\n",
    "                            entry_point='cifar10.py',\n",
    "                            source_dir='source',                                                            \n",
    "                            role=role,\n",
    "                            framework_version='1.6.0',\n",
    "                            py_version='py3',\n",
    "                            instance_count=1,\n",
    "                            instance_type='ml.p3.2xlarge',\n",
    "                            base_job_name='cifar10-pytorch-spot-2',\n",
    "                            hyperparameters=hyperparameters,\n",
    "                            checkpoint_s3_uri=checkpoint_s3_path,\n",
    "                            debugger_hook_config=False,\n",
    "                            use_spot_instances=use_spot_instances,\n",
    "                            max_run=max_run,\n",
    "                            max_wait=max_wait)\n",
    "\n",
    "spot_estimator.fit(inputs, wait=False)"
   ]
  },
  {
   "cell_type": "code",
   "execution_count": null,
   "id": "77580c0b",
   "metadata": {},
   "outputs": [],
   "source": [
    "spot_estimator.logs()"
   ]
  },
  {
   "cell_type": "markdown",
   "id": "6e222c64",
   "metadata": {},
   "source": [
    "### 훈련 잡 로그 분석\n",
    "\n",
    "훈련 잡 로그를 분석하면 훈련 잡 이 6번째 epoch 부터 시작된다는 것을 알 수 있습니다.\n",
    "\n",
    "`_load_체크포인트` 함수의 출력을 볼 수 있습니다:\n",
    "\n",
    "```\n",
    "--------------------------------------------\n",
    "Checkpoint file found!\n",
    "Loading Checkpoint From: /opt/ml/checkpoints/checkpoint.pth\n",
    "Checkpoint File Loaded - epoch_number: 5 - loss: 0.8455273509025574\n",
    "Resuming training from epoch: 6\n",
    "--------------------------------------------\n",
    "```"
   ]
  },
  {
   "cell_type": "markdown",
   "id": "07589a66",
   "metadata": {},
   "source": [
    "훈련이 완료 된 후에 S3 의 체크포인트 파일이 업데이트가 됩니다.\n",
    "```python\n",
    "checkpoint.pth\n",
    "```\n"
   ]
  },
  {
   "cell_type": "markdown",
   "id": "71b3b5e6",
   "metadata": {},
   "source": [
    "## 모델 아티펙트 저장\n",
    "- 아티펙트를 저장하여 추론에 사용합니다."
   ]
  },
  {
   "cell_type": "code",
   "execution_count": null,
   "id": "9cbf80e8",
   "metadata": {},
   "outputs": [],
   "source": [
    "spot_artifact_path = spot_estimator.model_data\n",
    "print(\"spot_artifact_path: \", spot_artifact_path)\n",
    "\n",
    "%store spot_artifact_path"
   ]
  },
  {
   "cell_type": "code",
   "execution_count": null,
   "id": "218ef7de",
   "metadata": {},
   "outputs": [],
   "source": []
  },
  {
   "cell_type": "code",
   "execution_count": null,
   "id": "1953992e",
   "metadata": {},
   "outputs": [],
   "source": []
  },
  {
   "cell_type": "code",
   "execution_count": null,
   "id": "01c80411",
   "metadata": {},
   "outputs": [],
   "source": []
  }
 ],
 "metadata": {
  "kernelspec": {
   "display_name": "conda_python3",
   "language": "python",
   "name": "conda_python3"
  },
  "language_info": {
   "codemirror_mode": {
    "name": "ipython",
    "version": 3
   },
   "file_extension": ".py",
   "mimetype": "text/x-python",
   "name": "python",
   "nbconvert_exporter": "python",
   "pygments_lexer": "ipython3",
   "version": "3.6.13"
  }
 },
 "nbformat": 4,
 "nbformat_minor": 5
}
