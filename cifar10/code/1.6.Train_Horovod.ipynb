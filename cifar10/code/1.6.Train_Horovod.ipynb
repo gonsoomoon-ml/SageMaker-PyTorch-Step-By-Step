{
 "cells": [
  {
   "cell_type": "markdown",
   "metadata": {},
   "source": [
    "# 현재 작업 중입니다.\n",
    "\n",
    "<!-- # [Module 1.6] Horovod 훈련\n",
    "\n",
    "\n",
    "본 워크샵의 모든 노트북은 `conda_python3` 여기에서 작업 합니다.\n",
    "\n",
    "이 노트북은 아래와 같은 작업을 합니다.\n",
    "- 아래는 세이지메이커의 어떤 피쳐도 사용하지 않고, PyTorch 만을 사용해서 훈련 합니다. -->"
   ]
  },
  {
   "cell_type": "markdown",
   "metadata": {},
   "source": [
    "# PyTorch CIFAR-10 local training  \n",
    "\n"
   ]
  },
  {
   "cell_type": "code",
   "execution_count": 1,
   "metadata": {},
   "outputs": [],
   "source": [
    "%load_ext autoreload\n",
    "%autoreload 2"
   ]
  },
  {
   "cell_type": "code",
   "execution_count": 2,
   "metadata": {},
   "outputs": [],
   "source": [
    "import sagemaker\n",
    "\n",
    "sagemaker_session = sagemaker.Session()\n",
    "\n",
    "bucket = sagemaker_session.default_bucket()\n",
    "prefix = \"sagemaker/DEMO-pytorch-cnn-cifar10\"\n",
    "\n",
    "role = sagemaker.get_execution_role()"
   ]
  },
  {
   "cell_type": "code",
   "execution_count": 3,
   "metadata": {},
   "outputs": [
    {
     "name": "stdout",
     "output_type": "stream",
     "text": [
      "Instance type = local_gpu\n"
     ]
    }
   ],
   "source": [
    "import os\n",
    "import subprocess\n",
    "\n",
    "instance_type = \"local\"\n",
    "\n",
    "try:\n",
    "    if subprocess.call(\"nvidia-smi\") == 0:\n",
    "        ## Set type to GPU if one is present\n",
    "        instance_type = \"local_gpu\"\n",
    "except:\n",
    "    pass\n",
    "\n",
    "print(\"Instance type = \" + instance_type)"
   ]
  },
  {
   "cell_type": "markdown",
   "metadata": {},
   "source": [
    "### Upload the data\n",
    "We use the ```sagemaker.Session.upload_data``` function to upload our datasets to an S3 location. The return value inputs identifies the location -- we will use this later when we start the training job."
   ]
  },
  {
   "cell_type": "code",
   "execution_count": 4,
   "metadata": {},
   "outputs": [
    {
     "name": "stdout",
     "output_type": "stream",
     "text": [
      "s3 inputs:  s3://sagemaker-ap-northeast-2-057716757052/data/cifar10\n"
     ]
    }
   ],
   "source": [
    "inputs = sagemaker_session.upload_data(path=\"../data\", bucket=bucket, key_prefix=\"data/cifar10\")\n",
    "print(\"s3 inputs: \", inputs)"
   ]
  },
  {
   "cell_type": "markdown",
   "metadata": {},
   "source": [
    "# Construct a script for training \n",
    "- epoch 10 , 20\n",
    "    - 각각 테스트 정확도 55.2, 62.9\n"
   ]
  },
  {
   "cell_type": "code",
   "execution_count": 5,
   "metadata": {},
   "outputs": [],
   "source": [
    "import os\n",
    "import subprocess\n",
    "\n",
    "instance_type = \"local_gpu\"\n",
    "# instance_type = \"ml.p3.8xlarge\"\n",
    "\n",
    "job_name ='cifar10-horovod'"
   ]
  },
  {
   "cell_type": "markdown",
   "metadata": {},
   "source": [
    "## 시스템의 이전 도커 컨테이너 삭제\n",
    "- 아래와 같은 명령어를 사용하여 저장 공간을 확보 합니다."
   ]
  },
  {
   "cell_type": "code",
   "execution_count": 7,
   "metadata": {},
   "outputs": [
    {
     "name": "stdout",
     "output_type": "stream",
     "text": [
      "Filesystem      Size  Used Avail Use% Mounted on\n",
      "devtmpfs        121G   76K  121G   1% /dev\n",
      "tmpfs           121G  1.2M  121G   1% /dev/shm\n",
      "/dev/xvda1      104G   97G  7.2G  94% /\n",
      "/dev/xvdf       985G   43G  903G   5% /home/ec2-user/SageMaker\n",
      "Deleted Containers:\n",
      "d6b5072e9c99ac42f5ea809267c2649db615bdb953a31f9fda8bb556795a83a0\n",
      "\n",
      "Deleted Networks:\n",
      "sagemaker-local\n",
      "\n",
      "Deleted Images:\n",
      "untagged: 763104351884.dkr.ecr.ap-northeast-2.amazonaws.com/pytorch-inference:1.6.0-gpu-py3\n",
      "untagged: 763104351884.dkr.ecr.ap-northeast-2.amazonaws.com/pytorch-inference@sha256:25cb8433fd503ae5ba750a85173e084494816d7c0bf2390a742e8d15fda3af5c\n",
      "deleted: sha256:e3593f043c58a220c4a67268e9a95d987f36e8bd234880704168fa916d0ae754\n",
      "deleted: sha256:7d769182f6fcc23c371f49b733f3904ee5eeac8a3789f0f1ae63de4688421c02\n",
      "deleted: sha256:4e6e1f0287ce0e3cfbe0c3aebf6ca610b5abc846ed7abfecfb2176d68b2a7a90\n",
      "deleted: sha256:4df6cc60e83cc4ba0295155373cbe7e7038426d63c9289ad33b00a9f7cddcc97\n",
      "deleted: sha256:9b777ad45036c17d497844c26c9007cab188f397c3d96cde31bb92d74acf769b\n",
      "deleted: sha256:99c31dd6e83059c3bde77b3d842768584b290ac92c2b5508221272a76d2b83a7\n",
      "deleted: sha256:dd54b297c77f37a4c7381277d3bb3dcb633ac23c6c0e1fd4e3eb97f1b6fca729\n",
      "deleted: sha256:750ddf3b5e2192b1ebf6c7e79b62fa4e4086b857e88d7e9b1e40c1a76222ad1b\n",
      "deleted: sha256:7920b424b23616d6dbab1c725fc5e0a999f568e0a54167d3cef350d8daa63a5e\n",
      "deleted: sha256:aa3f54d90147258bdd9e45a2410f63e5626a070471c740a48445b01bfe845011\n",
      "deleted: sha256:14a941e1295c76f6e76336ca529c0e96b3635c178a3bf9f8fea8b027b2322111\n",
      "deleted: sha256:49bf21b4ee41107e35558ef4fdae7c954d34bcf0fc401580cd285fe0720c9f18\n",
      "deleted: sha256:68fffe2757e113ae8da3a54b3085ca129426f7e6d7a1fc5c9c35be8b5ff54951\n",
      "deleted: sha256:eee86a9ade79a57cdda523b09ead05246cd4ebd373cce8af1687169cbe855445\n",
      "deleted: sha256:e796530136d3d5035874e6dd7ab3fc9706281bdf8d027a5f5b4fd80da121c833\n",
      "deleted: sha256:37dd18ea0025592693e3c84b84193618613c40a0341a7b545946384c45e33a46\n",
      "deleted: sha256:04a29f86a103e0fa2827dd2e3715325cfeba96ae8ba628650f4e1cdda6d64e90\n",
      "deleted: sha256:52772feaa43204cd6ce28a6e1e8196372da74c776c830763af668047b3ada3bd\n",
      "deleted: sha256:d25ed84106a7d7afd4d10416ed3a9057db18a2783bff54e358cde8a5318a7301\n",
      "deleted: sha256:5be5eb4c629129704031f32ba336f77e37f0937f9e6f2aebfa70e6ed064dd92a\n",
      "deleted: sha256:220792fc0ed7ab191f3024d51abede3d8881444384863d99430d4823d96e4194\n",
      "deleted: sha256:d11ab971e55b8fb12e316883b1e2c476e7283893c6ad2737319af4775848e99d\n",
      "deleted: sha256:5e327c7291ce39905af15f359b02088f40389e7b49d2e19c1b496545715fa901\n",
      "deleted: sha256:1b7904ad1d1421864c9f758878438cdfab0d73d537a8171e549506b2e2eac775\n",
      "deleted: sha256:d15603e98de265751f195ac5f7f196f961516c88d4e44889903ea417e22478eb\n",
      "deleted: sha256:97e0aad4d1e9aa7b2ba673b72fa986bf108c5b7ae0dc759cb69894135b365311\n",
      "deleted: sha256:b0bb92c1b042bb5432bb5b450e39b9e75fb47e2bbbcca37008382672161171ad\n",
      "deleted: sha256:b5d94c3816df3caf428ea2a04728263437a5c527fe1ca6a9ed2559dd523b005c\n",
      "deleted: sha256:c540ff0a3fd6359f41f538795638a639ad145e1109dd31f1e41725ea733a55cc\n",
      "deleted: sha256:5abd36dd4be8e675b62f5ff5d279e6fd0dc09f2f21b1a930bf7f90f92b76a4e2\n",
      "deleted: sha256:6abaaf48a3f215b6c48990f422e15dd15bdf2b29c935cb03fbefc7b9f47adfe0\n",
      "deleted: sha256:3bf034b6a7ee8efe9555a5d3bc283cdad6d638706468448cccbf8a648881e380\n",
      "deleted: sha256:935c56d8b3f96d6587f3640e491767688b790c458a01fef327188abcbbafdc9a\n",
      "\n",
      "Total reclaimed space: 8.65GB\n",
      "Filesystem      Size  Used Avail Use% Mounted on\n",
      "devtmpfs        121G   76K  121G   1% /dev\n",
      "tmpfs           121G  1.2M  121G   1% /dev/shm\n",
      "/dev/xvda1      104G   88G   16G  86% /\n",
      "/dev/xvdf       985G   43G  903G   5% /home/ec2-user/SageMaker\n"
     ]
    }
   ],
   "source": [
    "! df -h\n",
    "! docker system prune -f --all\n",
    "! df -h"
   ]
  },
  {
   "cell_type": "code",
   "execution_count": 8,
   "metadata": {},
   "outputs": [
    {
     "name": "stderr",
     "output_type": "stream",
     "text": [
      "train_instance_count has been renamed in sagemaker>=2.\n",
      "See: https://sagemaker.readthedocs.io/en/stable/v2.html for details.\n",
      "train_instance_type has been renamed in sagemaker>=2.\n",
      "See: https://sagemaker.readthedocs.io/en/stable/v2.html for details.\n"
     ]
    },
    {
     "name": "stdout",
     "output_type": "stream",
     "text": [
      "Creating network \"sagemaker-local\" with the default driver\n",
      "Creating 9bseq7xuf5-algo-1-y97ft ... \n",
      "Creating 9bseq7xuf5-algo-1-y97ft ... done\n",
      "Attaching to 9bseq7xuf5-algo-1-y97ft\n",
      "\u001b[36m9bseq7xuf5-algo-1-y97ft |\u001b[0m 2021-07-29 06:08:41,052 sagemaker-training-toolkit INFO     Imported framework sagemaker_pytorch_container.training\n",
      "\u001b[36m9bseq7xuf5-algo-1-y97ft |\u001b[0m 2021-07-29 06:08:41,095 sagemaker_pytorch_container.training INFO     Block until all host DNS lookups succeed.\n",
      "\u001b[36m9bseq7xuf5-algo-1-y97ft |\u001b[0m 2021-07-29 06:08:41,098 sagemaker_pytorch_container.training INFO     Invoking user training script.\n",
      "\u001b[36m9bseq7xuf5-algo-1-y97ft |\u001b[0m 2021-07-29 06:08:41,225 sagemaker-training-toolkit ERROR    Reporting training FAILURE\n",
      "\u001b[36m9bseq7xuf5-algo-1-y97ft |\u001b[0m 2021-07-29 06:08:41,225 sagemaker-training-toolkit ERROR    framework error: \n",
      "\u001b[36m9bseq7xuf5-algo-1-y97ft |\u001b[0m Traceback (most recent call last):\n",
      "\u001b[36m9bseq7xuf5-algo-1-y97ft |\u001b[0m   File \"/opt/conda/lib/python3.6/site-packages/sagemaker_training/trainer.py\", line 85, in train\n",
      "\u001b[36m9bseq7xuf5-algo-1-y97ft |\u001b[0m     entrypoint()\n",
      "\u001b[36m9bseq7xuf5-algo-1-y97ft |\u001b[0m   File \"/opt/conda/lib/python3.6/site-packages/sagemaker_pytorch_container/training.py\", line 121, in main\n",
      "\u001b[36m9bseq7xuf5-algo-1-y97ft |\u001b[0m     train(environment.Environment())\n",
      "\u001b[36m9bseq7xuf5-algo-1-y97ft |\u001b[0m   File \"/opt/conda/lib/python3.6/site-packages/sagemaker_pytorch_container/training.py\", line 73, in train\n",
      "\u001b[36m9bseq7xuf5-algo-1-y97ft |\u001b[0m     runner_type=runner_type)\n",
      "\u001b[36m9bseq7xuf5-algo-1-y97ft |\u001b[0m   File \"/opt/conda/lib/python3.6/site-packages/sagemaker_training/entry_point.py\", line 92, in run\n",
      "\u001b[36m9bseq7xuf5-algo-1-y97ft |\u001b[0m     files.download_and_extract(uri=uri, path=environment.code_dir)\n",
      "\u001b[36m9bseq7xuf5-algo-1-y97ft |\u001b[0m   File \"/opt/conda/lib/python3.6/site-packages/sagemaker_training/files.py\", line 131, in download_and_extract\n",
      "\u001b[36m9bseq7xuf5-algo-1-y97ft |\u001b[0m     s3_download(uri, dst)\n",
      "\u001b[36m9bseq7xuf5-algo-1-y97ft |\u001b[0m   File \"/opt/conda/lib/python3.6/site-packages/sagemaker_training/files.py\", line 167, in s3_download\n",
      "\u001b[36m9bseq7xuf5-algo-1-y97ft |\u001b[0m     s3.Bucket(bucket).download_file(key, dst)\n",
      "\u001b[36m9bseq7xuf5-algo-1-y97ft |\u001b[0m   File \"/opt/conda/lib/python3.6/site-packages/boto3/s3/inject.py\", line 246, in bucket_download_file\n",
      "\u001b[36m9bseq7xuf5-algo-1-y97ft |\u001b[0m     ExtraArgs=ExtraArgs, Callback=Callback, Config=Config)\n",
      "\u001b[36m9bseq7xuf5-algo-1-y97ft |\u001b[0m   File \"/opt/conda/lib/python3.6/site-packages/boto3/s3/inject.py\", line 172, in download_file\n",
      "\u001b[36m9bseq7xuf5-algo-1-y97ft |\u001b[0m     extra_args=ExtraArgs, callback=Callback)\n",
      "\u001b[36m9bseq7xuf5-algo-1-y97ft |\u001b[0m   File \"/opt/conda/lib/python3.6/site-packages/boto3/s3/transfer.py\", line 307, in download_file\n",
      "\u001b[36m9bseq7xuf5-algo-1-y97ft |\u001b[0m     future.result()\n",
      "\u001b[36m9bseq7xuf5-algo-1-y97ft |\u001b[0m   File \"/opt/conda/lib/python3.6/site-packages/s3transfer/futures.py\", line 106, in result\n",
      "\u001b[36m9bseq7xuf5-algo-1-y97ft |\u001b[0m     return self._coordinator.result()\n",
      "\u001b[36m9bseq7xuf5-algo-1-y97ft |\u001b[0m   File \"/opt/conda/lib/python3.6/site-packages/s3transfer/futures.py\", line 265, in result\n",
      "\u001b[36m9bseq7xuf5-algo-1-y97ft |\u001b[0m     raise self._exception\n",
      "\u001b[36m9bseq7xuf5-algo-1-y97ft |\u001b[0m   File \"/opt/conda/lib/python3.6/site-packages/s3transfer/tasks.py\", line 255, in _main\n",
      "\u001b[36m9bseq7xuf5-algo-1-y97ft |\u001b[0m     self._submit(transfer_future=transfer_future, **kwargs)\n",
      "\u001b[36m9bseq7xuf5-algo-1-y97ft |\u001b[0m   File \"/opt/conda/lib/python3.6/site-packages/s3transfer/download.py\", line 343, in _submit\n",
      "\u001b[36m9bseq7xuf5-algo-1-y97ft |\u001b[0m     **transfer_future.meta.call_args.extra_args\n",
      "\u001b[36m9bseq7xuf5-algo-1-y97ft |\u001b[0m   File \"/opt/conda/lib/python3.6/site-packages/botocore/client.py\", line 357, in _api_call\n",
      "\u001b[36m9bseq7xuf5-algo-1-y97ft |\u001b[0m     return self._make_api_call(operation_name, kwargs)\n",
      "\u001b[36m9bseq7xuf5-algo-1-y97ft |\u001b[0m   File \"/opt/conda/lib/python3.6/site-packages/botocore/client.py\", line 676, in _make_api_call\n",
      "\u001b[36m9bseq7xuf5-algo-1-y97ft |\u001b[0m     raise error_class(parsed_response, operation_name)\n",
      "\u001b[36m9bseq7xuf5-algo-1-y97ft |\u001b[0m botocore.exceptions.ClientError: An error occurred (403) when calling the HeadObject operation: Forbidden\n",
      "\u001b[36m9bseq7xuf5-algo-1-y97ft |\u001b[0m \n",
      "\u001b[36m9bseq7xuf5-algo-1-y97ft |\u001b[0m An error occurred (403) when calling the HeadObject operation: Forbidden\n",
      "\u001b[36m9bseq7xuf5-algo-1-y97ft exited with code 1\n",
      "\u001b[0m1\n",
      "Aborting on container exit...\n"
     ]
    },
    {
     "ename": "RuntimeError",
     "evalue": "Failed to run: ['docker-compose', '-f', '/tmp/tmpsn9cx4zf/docker-compose.yaml', 'up', '--build', '--abort-on-container-exit'], Process exited with code: 1",
     "output_type": "error",
     "traceback": [
      "\u001b[0;31m---------------------------------------------------------------------------\u001b[0m",
      "\u001b[0;31mRuntimeError\u001b[0m                              Traceback (most recent call last)",
      "\u001b[0;32m~/anaconda3/envs/python3/lib/python3.6/site-packages/sagemaker/local/image.py\u001b[0m in \u001b[0;36mtrain\u001b[0;34m(self, input_data_config, output_data_config, hyperparameters, job_name)\u001b[0m\n\u001b[1;32m    237\u001b[0m         \u001b[0;32mtry\u001b[0m\u001b[0;34m:\u001b[0m\u001b[0;34m\u001b[0m\u001b[0;34m\u001b[0m\u001b[0m\n\u001b[0;32m--> 238\u001b[0;31m             \u001b[0m_stream_output\u001b[0m\u001b[0;34m(\u001b[0m\u001b[0mprocess\u001b[0m\u001b[0;34m)\u001b[0m\u001b[0;34m\u001b[0m\u001b[0;34m\u001b[0m\u001b[0m\n\u001b[0m\u001b[1;32m    239\u001b[0m         \u001b[0;32mexcept\u001b[0m \u001b[0mRuntimeError\u001b[0m \u001b[0;32mas\u001b[0m \u001b[0me\u001b[0m\u001b[0;34m:\u001b[0m\u001b[0;34m\u001b[0m\u001b[0;34m\u001b[0m\u001b[0m\n",
      "\u001b[0;32m~/anaconda3/envs/python3/lib/python3.6/site-packages/sagemaker/local/image.py\u001b[0m in \u001b[0;36m_stream_output\u001b[0;34m(process)\u001b[0m\n\u001b[1;32m    893\u001b[0m     \u001b[0;32mif\u001b[0m \u001b[0mexit_code\u001b[0m \u001b[0;34m!=\u001b[0m \u001b[0;36m0\u001b[0m\u001b[0;34m:\u001b[0m\u001b[0;34m\u001b[0m\u001b[0;34m\u001b[0m\u001b[0m\n\u001b[0;32m--> 894\u001b[0;31m         \u001b[0;32mraise\u001b[0m \u001b[0mRuntimeError\u001b[0m\u001b[0;34m(\u001b[0m\u001b[0;34m\"Process exited with code: %s\"\u001b[0m \u001b[0;34m%\u001b[0m \u001b[0mexit_code\u001b[0m\u001b[0;34m)\u001b[0m\u001b[0;34m\u001b[0m\u001b[0;34m\u001b[0m\u001b[0m\n\u001b[0m\u001b[1;32m    895\u001b[0m \u001b[0;34m\u001b[0m\u001b[0m\n",
      "\u001b[0;31mRuntimeError\u001b[0m: Process exited with code: 1",
      "\nDuring handling of the above exception, another exception occurred:\n",
      "\u001b[0;31mRuntimeError\u001b[0m                              Traceback (most recent call last)",
      "\u001b[0;32m<ipython-input-8-4869c1cad515>\u001b[0m in \u001b[0;36m<module>\u001b[0;34m\u001b[0m\n\u001b[1;32m     16\u001b[0m                     },    \n\u001b[1;32m     17\u001b[0m )\n\u001b[0;32m---> 18\u001b[0;31m \u001b[0mcifar10_estimator\u001b[0m\u001b[0;34m.\u001b[0m\u001b[0mfit\u001b[0m\u001b[0;34m(\u001b[0m\u001b[0;34m{\u001b[0m\u001b[0;34m\"training\"\u001b[0m \u001b[0;34m:\u001b[0m \u001b[0minputs\u001b[0m\u001b[0;34m}\u001b[0m\u001b[0;34m)\u001b[0m\u001b[0;34m\u001b[0m\u001b[0;34m\u001b[0m\u001b[0m\n\u001b[0m",
      "\u001b[0;32m~/anaconda3/envs/python3/lib/python3.6/site-packages/sagemaker/estimator.py\u001b[0m in \u001b[0;36mfit\u001b[0;34m(self, inputs, wait, logs, job_name, experiment_config)\u001b[0m\n\u001b[1;32m    677\u001b[0m         \u001b[0mself\u001b[0m\u001b[0;34m.\u001b[0m\u001b[0m_prepare_for_training\u001b[0m\u001b[0;34m(\u001b[0m\u001b[0mjob_name\u001b[0m\u001b[0;34m=\u001b[0m\u001b[0mjob_name\u001b[0m\u001b[0;34m)\u001b[0m\u001b[0;34m\u001b[0m\u001b[0;34m\u001b[0m\u001b[0m\n\u001b[1;32m    678\u001b[0m \u001b[0;34m\u001b[0m\u001b[0m\n\u001b[0;32m--> 679\u001b[0;31m         \u001b[0mself\u001b[0m\u001b[0;34m.\u001b[0m\u001b[0mlatest_training_job\u001b[0m \u001b[0;34m=\u001b[0m \u001b[0m_TrainingJob\u001b[0m\u001b[0;34m.\u001b[0m\u001b[0mstart_new\u001b[0m\u001b[0;34m(\u001b[0m\u001b[0mself\u001b[0m\u001b[0;34m,\u001b[0m \u001b[0minputs\u001b[0m\u001b[0;34m,\u001b[0m \u001b[0mexperiment_config\u001b[0m\u001b[0;34m)\u001b[0m\u001b[0;34m\u001b[0m\u001b[0;34m\u001b[0m\u001b[0m\n\u001b[0m\u001b[1;32m    680\u001b[0m         \u001b[0mself\u001b[0m\u001b[0;34m.\u001b[0m\u001b[0mjobs\u001b[0m\u001b[0;34m.\u001b[0m\u001b[0mappend\u001b[0m\u001b[0;34m(\u001b[0m\u001b[0mself\u001b[0m\u001b[0;34m.\u001b[0m\u001b[0mlatest_training_job\u001b[0m\u001b[0;34m)\u001b[0m\u001b[0;34m\u001b[0m\u001b[0;34m\u001b[0m\u001b[0m\n\u001b[1;32m    681\u001b[0m         \u001b[0;32mif\u001b[0m \u001b[0mwait\u001b[0m\u001b[0;34m:\u001b[0m\u001b[0;34m\u001b[0m\u001b[0;34m\u001b[0m\u001b[0m\n",
      "\u001b[0;32m~/anaconda3/envs/python3/lib/python3.6/site-packages/sagemaker/estimator.py\u001b[0m in \u001b[0;36mstart_new\u001b[0;34m(cls, estimator, inputs, experiment_config)\u001b[0m\n\u001b[1;32m   1447\u001b[0m         \"\"\"\n\u001b[1;32m   1448\u001b[0m         \u001b[0mtrain_args\u001b[0m \u001b[0;34m=\u001b[0m \u001b[0mcls\u001b[0m\u001b[0;34m.\u001b[0m\u001b[0m_get_train_args\u001b[0m\u001b[0;34m(\u001b[0m\u001b[0mestimator\u001b[0m\u001b[0;34m,\u001b[0m \u001b[0minputs\u001b[0m\u001b[0;34m,\u001b[0m \u001b[0mexperiment_config\u001b[0m\u001b[0;34m)\u001b[0m\u001b[0;34m\u001b[0m\u001b[0;34m\u001b[0m\u001b[0m\n\u001b[0;32m-> 1449\u001b[0;31m         \u001b[0mestimator\u001b[0m\u001b[0;34m.\u001b[0m\u001b[0msagemaker_session\u001b[0m\u001b[0;34m.\u001b[0m\u001b[0mtrain\u001b[0m\u001b[0;34m(\u001b[0m\u001b[0;34m**\u001b[0m\u001b[0mtrain_args\u001b[0m\u001b[0;34m)\u001b[0m\u001b[0;34m\u001b[0m\u001b[0;34m\u001b[0m\u001b[0m\n\u001b[0m\u001b[1;32m   1450\u001b[0m \u001b[0;34m\u001b[0m\u001b[0m\n\u001b[1;32m   1451\u001b[0m         \u001b[0;32mreturn\u001b[0m \u001b[0mcls\u001b[0m\u001b[0;34m(\u001b[0m\u001b[0mestimator\u001b[0m\u001b[0;34m.\u001b[0m\u001b[0msagemaker_session\u001b[0m\u001b[0;34m,\u001b[0m \u001b[0mestimator\u001b[0m\u001b[0;34m.\u001b[0m\u001b[0m_current_job_name\u001b[0m\u001b[0;34m)\u001b[0m\u001b[0;34m\u001b[0m\u001b[0;34m\u001b[0m\u001b[0m\n",
      "\u001b[0;32m~/anaconda3/envs/python3/lib/python3.6/site-packages/sagemaker/session.py\u001b[0m in \u001b[0;36mtrain\u001b[0;34m(self, input_mode, input_config, role, job_name, output_config, resource_config, vpc_config, hyperparameters, stop_condition, tags, metric_definitions, enable_network_isolation, image_uri, algorithm_arn, encrypt_inter_container_traffic, use_spot_instances, checkpoint_s3_uri, checkpoint_local_path, experiment_config, debugger_rule_configs, debugger_hook_config, tensorboard_output_config, enable_sagemaker_metrics, profiler_rule_configs, profiler_config, environment, retry_strategy)\u001b[0m\n\u001b[1;32m    570\u001b[0m         \u001b[0mLOGGER\u001b[0m\u001b[0;34m.\u001b[0m\u001b[0minfo\u001b[0m\u001b[0;34m(\u001b[0m\u001b[0;34m\"Creating training-job with name: %s\"\u001b[0m\u001b[0;34m,\u001b[0m \u001b[0mjob_name\u001b[0m\u001b[0;34m)\u001b[0m\u001b[0;34m\u001b[0m\u001b[0;34m\u001b[0m\u001b[0m\n\u001b[1;32m    571\u001b[0m         \u001b[0mLOGGER\u001b[0m\u001b[0;34m.\u001b[0m\u001b[0mdebug\u001b[0m\u001b[0;34m(\u001b[0m\u001b[0;34m\"train request: %s\"\u001b[0m\u001b[0;34m,\u001b[0m \u001b[0mjson\u001b[0m\u001b[0;34m.\u001b[0m\u001b[0mdumps\u001b[0m\u001b[0;34m(\u001b[0m\u001b[0mtrain_request\u001b[0m\u001b[0;34m,\u001b[0m \u001b[0mindent\u001b[0m\u001b[0;34m=\u001b[0m\u001b[0;36m4\u001b[0m\u001b[0;34m)\u001b[0m\u001b[0;34m)\u001b[0m\u001b[0;34m\u001b[0m\u001b[0;34m\u001b[0m\u001b[0m\n\u001b[0;32m--> 572\u001b[0;31m         \u001b[0mself\u001b[0m\u001b[0;34m.\u001b[0m\u001b[0msagemaker_client\u001b[0m\u001b[0;34m.\u001b[0m\u001b[0mcreate_training_job\u001b[0m\u001b[0;34m(\u001b[0m\u001b[0;34m**\u001b[0m\u001b[0mtrain_request\u001b[0m\u001b[0;34m)\u001b[0m\u001b[0;34m\u001b[0m\u001b[0;34m\u001b[0m\u001b[0m\n\u001b[0m\u001b[1;32m    573\u001b[0m \u001b[0;34m\u001b[0m\u001b[0m\n\u001b[1;32m    574\u001b[0m     def _get_train_request(  # noqa: C901\n",
      "\u001b[0;32m~/anaconda3/envs/python3/lib/python3.6/site-packages/sagemaker/local/local_session.py\u001b[0m in \u001b[0;36mcreate_training_job\u001b[0;34m(self, TrainingJobName, AlgorithmSpecification, OutputDataConfig, ResourceConfig, InputDataConfig, **kwargs)\u001b[0m\n\u001b[1;32m    184\u001b[0m         \u001b[0mhyperparameters\u001b[0m \u001b[0;34m=\u001b[0m \u001b[0mkwargs\u001b[0m\u001b[0;34m[\u001b[0m\u001b[0;34m\"HyperParameters\"\u001b[0m\u001b[0;34m]\u001b[0m \u001b[0;32mif\u001b[0m \u001b[0;34m\"HyperParameters\"\u001b[0m \u001b[0;32min\u001b[0m \u001b[0mkwargs\u001b[0m \u001b[0;32melse\u001b[0m \u001b[0;34m{\u001b[0m\u001b[0;34m}\u001b[0m\u001b[0;34m\u001b[0m\u001b[0;34m\u001b[0m\u001b[0m\n\u001b[1;32m    185\u001b[0m         \u001b[0mlogger\u001b[0m\u001b[0;34m.\u001b[0m\u001b[0minfo\u001b[0m\u001b[0;34m(\u001b[0m\u001b[0;34m\"Starting training job\"\u001b[0m\u001b[0;34m)\u001b[0m\u001b[0;34m\u001b[0m\u001b[0;34m\u001b[0m\u001b[0m\n\u001b[0;32m--> 186\u001b[0;31m         \u001b[0mtraining_job\u001b[0m\u001b[0;34m.\u001b[0m\u001b[0mstart\u001b[0m\u001b[0;34m(\u001b[0m\u001b[0mInputDataConfig\u001b[0m\u001b[0;34m,\u001b[0m \u001b[0mOutputDataConfig\u001b[0m\u001b[0;34m,\u001b[0m \u001b[0mhyperparameters\u001b[0m\u001b[0;34m,\u001b[0m \u001b[0mTrainingJobName\u001b[0m\u001b[0;34m)\u001b[0m\u001b[0;34m\u001b[0m\u001b[0;34m\u001b[0m\u001b[0m\n\u001b[0m\u001b[1;32m    187\u001b[0m \u001b[0;34m\u001b[0m\u001b[0m\n\u001b[1;32m    188\u001b[0m         \u001b[0mLocalSagemakerClient\u001b[0m\u001b[0;34m.\u001b[0m\u001b[0m_training_jobs\u001b[0m\u001b[0;34m[\u001b[0m\u001b[0mTrainingJobName\u001b[0m\u001b[0;34m]\u001b[0m \u001b[0;34m=\u001b[0m \u001b[0mtraining_job\u001b[0m\u001b[0;34m\u001b[0m\u001b[0;34m\u001b[0m\u001b[0m\n",
      "\u001b[0;32m~/anaconda3/envs/python3/lib/python3.6/site-packages/sagemaker/local/entities.py\u001b[0m in \u001b[0;36mstart\u001b[0;34m(self, input_data_config, output_data_config, hyperparameters, job_name)\u001b[0m\n\u001b[1;32m    219\u001b[0m \u001b[0;34m\u001b[0m\u001b[0m\n\u001b[1;32m    220\u001b[0m         self.model_artifacts = self.container.train(\n\u001b[0;32m--> 221\u001b[0;31m             \u001b[0minput_data_config\u001b[0m\u001b[0;34m,\u001b[0m \u001b[0moutput_data_config\u001b[0m\u001b[0;34m,\u001b[0m \u001b[0mhyperparameters\u001b[0m\u001b[0;34m,\u001b[0m \u001b[0mjob_name\u001b[0m\u001b[0;34m\u001b[0m\u001b[0;34m\u001b[0m\u001b[0m\n\u001b[0m\u001b[1;32m    222\u001b[0m         )\n\u001b[1;32m    223\u001b[0m         \u001b[0mself\u001b[0m\u001b[0;34m.\u001b[0m\u001b[0mend_time\u001b[0m \u001b[0;34m=\u001b[0m \u001b[0mdatetime\u001b[0m\u001b[0;34m.\u001b[0m\u001b[0mdatetime\u001b[0m\u001b[0;34m.\u001b[0m\u001b[0mnow\u001b[0m\u001b[0;34m(\u001b[0m\u001b[0;34m)\u001b[0m\u001b[0;34m\u001b[0m\u001b[0;34m\u001b[0m\u001b[0m\n",
      "\u001b[0;32m~/anaconda3/envs/python3/lib/python3.6/site-packages/sagemaker/local/image.py\u001b[0m in \u001b[0;36mtrain\u001b[0;34m(self, input_data_config, output_data_config, hyperparameters, job_name)\u001b[0m\n\u001b[1;32m    241\u001b[0m             \u001b[0;31m# which contains the exit code and append the command line to it.\u001b[0m\u001b[0;34m\u001b[0m\u001b[0;34m\u001b[0m\u001b[0;34m\u001b[0m\u001b[0m\n\u001b[1;32m    242\u001b[0m             \u001b[0mmsg\u001b[0m \u001b[0;34m=\u001b[0m \u001b[0;34m\"Failed to run: %s, %s\"\u001b[0m \u001b[0;34m%\u001b[0m \u001b[0;34m(\u001b[0m\u001b[0mcompose_command\u001b[0m\u001b[0;34m,\u001b[0m \u001b[0mstr\u001b[0m\u001b[0;34m(\u001b[0m\u001b[0me\u001b[0m\u001b[0;34m)\u001b[0m\u001b[0;34m)\u001b[0m\u001b[0;34m\u001b[0m\u001b[0;34m\u001b[0m\u001b[0m\n\u001b[0;32m--> 243\u001b[0;31m             \u001b[0;32mraise\u001b[0m \u001b[0mRuntimeError\u001b[0m\u001b[0;34m(\u001b[0m\u001b[0mmsg\u001b[0m\u001b[0;34m)\u001b[0m\u001b[0;34m\u001b[0m\u001b[0;34m\u001b[0m\u001b[0m\n\u001b[0m\u001b[1;32m    244\u001b[0m         \u001b[0;32mfinally\u001b[0m\u001b[0;34m:\u001b[0m\u001b[0;34m\u001b[0m\u001b[0;34m\u001b[0m\u001b[0m\n\u001b[1;32m    245\u001b[0m             \u001b[0martifacts\u001b[0m \u001b[0;34m=\u001b[0m \u001b[0mself\u001b[0m\u001b[0;34m.\u001b[0m\u001b[0mretrieve_artifacts\u001b[0m\u001b[0;34m(\u001b[0m\u001b[0mcompose_data\u001b[0m\u001b[0;34m,\u001b[0m \u001b[0moutput_data_config\u001b[0m\u001b[0;34m,\u001b[0m \u001b[0mjob_name\u001b[0m\u001b[0;34m)\u001b[0m\u001b[0;34m\u001b[0m\u001b[0;34m\u001b[0m\u001b[0m\n",
      "\u001b[0;31mRuntimeError\u001b[0m: Failed to run: ['docker-compose', '-f', '/tmp/tmpsn9cx4zf/docker-compose.yaml', 'up', '--build', '--abort-on-container-exit'], Process exited with code: 1"
     ]
    }
   ],
   "source": [
    "from sagemaker.pytorch import PyTorch\n",
    "\n",
    "cifar10_estimator = PyTorch(\n",
    "    entry_point=\"train_horovod.py\",    \n",
    "    source_dir='source',    \n",
    "    base_job_name = job_name,\n",
    "    role=role,\n",
    "    framework_version='1.6.0',\n",
    "    py_version='py3',\n",
    "    train_instance_count=1,\n",
    "    train_instance_type=instance_type,\n",
    "    hyperparameters={\"epochs\": 3, \n",
    "                     'lr': 0.001,\n",
    "                     'batch-size': 64,\n",
    "                     \"backend\": \"gloo\",                     \n",
    "                    },    \n",
    ")\n",
    "cifar10_estimator.fit({\"training\" : inputs})"
   ]
  },
  {
   "cell_type": "code",
   "execution_count": null,
   "metadata": {},
   "outputs": [],
   "source": [
    "from sagemaker.pytorch import PyTorch\n",
    "\n",
    "instance_type\n",
    "\n",
    "cifar10_estimator = PyTorch(\n",
    "    entry_point=\"train_horovod.py\",    \n",
    "    source_dir='source',    \n",
    "    base_job_name = job_name,\n",
    "    role=role,\n",
    "    framework_version='1.6.0',\n",
    "    py_version='py3',\n",
    "    train_instance_count=1,\n",
    "    train_instance_type=instance_type,\n",
    "    hyperparameters={\"epochs\": 3, \n",
    "                     'lr': 0.001,\n",
    "                     'batch-size': 64,\n",
    "                     \"backend\": \"gloo\",                     \n",
    "                    },    \n",
    ")\n",
    "cifar10_estimator.fit({\"training\" : inputs})"
   ]
  },
  {
   "cell_type": "code",
   "execution_count": null,
   "metadata": {},
   "outputs": [],
   "source": [
    "horovod_artifact_path = cifar10_estimator.model_data\n",
    "print(\"horovod_artifact_path: \", horovod_artifact_path)\n",
    "\n",
    "\n",
    "%store horovod_artifact_path"
   ]
  },
  {
   "cell_type": "code",
   "execution_count": null,
   "metadata": {},
   "outputs": [],
   "source": [
    "! aws s3 ls {horovod_artifact_path} --recursive"
   ]
  },
  {
   "cell_type": "code",
   "execution_count": null,
   "metadata": {},
   "outputs": [],
   "source": []
  },
  {
   "cell_type": "code",
   "execution_count": null,
   "metadata": {},
   "outputs": [],
   "source": []
  },
  {
   "cell_type": "code",
   "execution_count": null,
   "metadata": {},
   "outputs": [],
   "source": []
  },
  {
   "cell_type": "code",
   "execution_count": null,
   "metadata": {},
   "outputs": [],
   "source": []
  },
  {
   "cell_type": "code",
   "execution_count": null,
   "metadata": {},
   "outputs": [],
   "source": []
  }
 ],
 "metadata": {
  "kernelspec": {
   "display_name": "conda_python3",
   "language": "python",
   "name": "conda_python3"
  },
  "language_info": {
   "codemirror_mode": {
    "name": "ipython",
    "version": 3
   },
   "file_extension": ".py",
   "mimetype": "text/x-python",
   "name": "python",
   "nbconvert_exporter": "python",
   "pygments_lexer": "ipython3",
   "version": "3.6.13"
  },
  "notice": "Copyright 2018 Amazon.com, Inc. or its affiliates. All Rights Reserved.  Licensed under the Apache License, Version 2.0 (the \"License\"). You may not use this file except in compliance with the License. A copy of the License is located at http://aws.amazon.com/apache2.0/ or in the \"license\" file accompanying this file. This file is distributed on an \"AS IS\" BASIS, WITHOUT WARRANTIES OR CONDITIONS OF ANY KIND, either express or implied. See the License for the specific language governing permissions and limitations under the License."
 },
 "nbformat": 4,
 "nbformat_minor": 4
}
