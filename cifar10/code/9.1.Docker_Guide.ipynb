{
 "cells": [
  {
   "cell_type": "markdown",
   "id": "d0211586",
   "metadata": {},
   "source": [
    "# 도커 컨테이너 관련 가이드 및 에러 해결 방법\n",
    "---"
   ]
  },
  {
   "cell_type": "markdown",
   "id": "9d0ddd2a",
   "metadata": {},
   "source": [
    "## 에러1: 세이지 메이커 로컬모드로 실행시에 아래와 같이 S3_download(uri, dst) 를 하기 위해서, 403 Forbidden Error 발생시\n",
    "\n",
    "- [트러블 슈팅 가이드](https://github.com/gonsoomoon-ml/SageMaker-Pipelines-Step-By-Step/blob/main/scratch/error/Trouble-Shooting.ipynb)"
   ]
  },
  {
   "cell_type": "markdown",
   "id": "ec1bee65",
   "metadata": {},
   "source": [
    "## 에러2: No space left (용량 부족시)\n",
    "- 도커로 사용으로 인한 시스템 용량 확보 --> [Docker의 prune 사용법](https://www.lainyzine.com/ko/article/docker-prune-usage-remove-unused-docker-objects/)\n",
    "\n",
    "    "
   ]
  },
  {
   "cell_type": "code",
   "execution_count": null,
   "id": "f1e0b95c",
   "metadata": {},
   "outputs": [],
   "source": []
  }
 ],
 "metadata": {
  "kernelspec": {
   "display_name": "conda_python3",
   "language": "python",
   "name": "conda_python3"
  },
  "language_info": {
   "codemirror_mode": {
    "name": "ipython",
    "version": 3
   },
   "file_extension": ".py",
   "mimetype": "text/x-python",
   "name": "python",
   "nbconvert_exporter": "python",
   "pygments_lexer": "ipython3",
   "version": "3.6.13"
  }
 },
 "nbformat": 4,
 "nbformat_minor": 5
}
