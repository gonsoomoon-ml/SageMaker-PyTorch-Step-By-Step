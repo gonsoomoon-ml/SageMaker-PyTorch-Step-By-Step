{
 "cells": [
  {
   "cell_type": "markdown",
   "metadata": {},
   "source": [
    "\n",
    "# FSx를 사용한 Amazon SageMaker의 Mask-RCNN 분산 교육\n",
    "\n",
    "Mask R-CNN은 중량물 감지 모델이라고도 하며 [MLPerf](https://www.mlperf.org/training-results-0-6/)의 일부입니다.\n",
    "\n",
    "\n",
    "단계의 개요는 다음과 같습니다.\n",
    "\n",
    "1. [Amazon S3](https://aws.amazon.com/s3/)에서 COCO 2017 데이터 세트 준비\n",
    "2. Amazon FSx Lustre 파일 시스템을 생성하고 S3에서 파일 시스템으로 데이터 가져오기\n",
    "\n",
    "시작하기 전에 노트북 전체에서 사용할 두 개의 파이썬 변수 ```aws_region``` 및 ```s3_bucket```을 초기화하겠습니다. ```3_bucket```은 이 노트북 인스턴스의 영역에 있어야 합니다.\n",
    "\n",
    "\n",
    "# FSx를 사용한 Amazon SageMaker의 Mask-RCNN 분산 교육\n",
    "\n",
    "Mask R-CNN은 중량물 감지 모델이라고도 하며 [MLPerf](https://www.mlperf.org/training-results-0-6/)의 일부입니다.\n",
    "\n",
    "\n",
    "단계의 개요는 다음과 같습니다.\n",
    "\n",
    "1. [Amazon S3](https://aws.amazon.com/s3/)에서 COCO 2017 데이터 세트 준비\n",
    "2. Amazon FSx Lustre 파일 시스템을 생성하고 S3에서 파일 시스템으로 데이터 가져오기\n",
    "\n",
    "시작하기 전에 노트북 전체에서 사용할 두 개의 파이썬 변수 ```aws_region``` 및 ```s3_bucket```을 초기화하겠습니다. ```3_bucket```은 이 노트북 인스턴스의 영역에 있어야 합니다."
   ]
  },
  {
   "cell_type": "code",
   "execution_count": 1,
   "metadata": {},
   "outputs": [
    {
     "name": "stdout",
     "output_type": "stream",
     "text": [
      "Bucket region: None\n"
     ]
    }
   ],
   "source": [
    "import boto3\n",
    "\n",
    "session = boto3.session.Session()\n",
    "aws_region = session.region_name\n",
    "# s3_bucket  = \"cf-mask-cnn-handson\" # your-s3-bucket-name\n",
    "s3_bucket  = \"cf-mask-cnn-handson\" # your-s3-bucket-name\n",
    "\n",
    "\n",
    "try:\n",
    "    s3_client = boto3.client('s3')\n",
    "    response = s3_client.get_bucket_location(Bucket=s3_bucket)\n",
    "    print(f\"Bucket region: {response['LocationConstraint']}\")\n",
    "except:\n",
    "    print(f\"Access Error: Check if '{s3_bucket}' S3 bucket is in '{aws_region}' region\")"
   ]
  },
  {
   "cell_type": "markdown",
   "metadata": {},
   "source": [
    "## Amazon S3에서 COCO 2017 데이터 세트 준비\n",
    "\n",
    "훈련에는 [COCO 2017 데이터세트](http://cocodataset.org/#home)를 사용합니다. COCO 2017 교육 및 검증 데이터 세트를 이 노트북 인스턴스에 다운로드하고, 데이터 세트 아카이브에서 파일을 추출하고, 추출된 파일을 Amazon [S3 버킷](https://docs.aws.amazon.com/AmazonS3/latest/gsg/CreatingABucket.html)에 업로드합니다. ). ```prepare-s3-bucket.sh``` 스크립트가 이 단계를 실행합니다."
   ]
  },
  {
   "cell_type": "code",
   "execution_count": 2,
   "metadata": {},
   "outputs": [
    {
     "name": "stdout",
     "output_type": "stream",
     "text": [
      "#!/bin/bash\n",
      "\n",
      "set -e\n",
      "\n",
      "if [ \"$#\" -ne 1 ]; then\n",
      "    echo \"usage: $0 <s3-bucket-name>\"\n",
      "    exit 1\n",
      "fi\n",
      "\n",
      "S3_BUCKET=$1\n",
      "S3_PREFIX=\"mask-rcnn/sagemaker/input\"\n",
      "\n",
      "# Stage directory must be on EBS volume with 100 GB available space\n",
      "STAGE_DIR=$HOME/SageMaker/coco-2017-$(date +\"%Y-%m-%d-%H-%M-%S\")\n",
      "\n",
      "echo \"Create stage directory: $STAGE_DIR\"\n",
      "mkdir -p $STAGE_DIR\n",
      "\n",
      "wget -O $STAGE_DIR/train2017.zip http://images.cocodataset.org/zips/train2017.zip\n",
      "echo \"Extracting $STAGE_DIR/train2017.zip\"\n",
      "unzip -o $STAGE_DIR/train2017.zip  -d $STAGE_DIR | awk 'BEGIN {ORS=\"=\"} {if(NR%1000==0)print \"=\"}'\n",
      "echo \"Done.\"\n",
      "rm $STAGE_DIR/train2017.zip\n",
      "\n",
      "wget -O $STAGE_DIR/val2017.zip http://images.cocodataset.org/zips/val2017.zip\n",
      "echo \"Extracting $STAGE_DIR/val2017.zip\"\n",
      "unzip -o $STAGE_DIR/val2017.zip -d $STAGE_DIR | awk 'BEGIN {ORS=\"=\"} {if(NR%1000==0)print \"=\"}'\n",
      "echo \"Done.\"\n",
      "rm $STAGE_DIR/val2017.zip\n",
      "\n",
      "wget -O $STAGE_DIR/annotations_trainval2017.zip http://images.cocodataset.org/annotations/annotations_trainval2017.zip\n",
      "unzip -o $STAGE_DIR/annotations_trainval2017.zip -d $STAGE_DIR\n",
      "rm $STAGE_DIR/annotations_trainval2017.zip\n",
      "\n",
      "mkdir $STAGE_DIR/pretrained-models\n",
      "wget -O $STAGE_DIR/pretrained-models/ImageNet-R50-AlignPadding.npz http://models.tensorpack.com/FasterRCNN/ImageNet-R50-AlignPadding.npz\n",
      "\n",
      "echo \"`date`: Uploading extracted files to s3://$S3_BUCKET/$S3_PREFIX/train [ eta 12 minutes ]\"\n",
      "aws s3 cp --recursive $STAGE_DIR s3://$S3_BUCKET/$S3_PREFIX/train | awk 'BEGIN {ORS=\"=\"} {if(NR%100==0)print \"=\"}'\n",
      "echo \"Done.\"\n",
      "\n",
      "echo \"Delete stage directory: $STAGE_DIR\"\n",
      "rm -rf $STAGE_DIR\n",
      "echo \"Success.\"\n"
     ]
    }
   ],
   "source": [
    "!cat ./prepare-s3-bucket.sh"
   ]
  },
  {
   "cell_type": "markdown",
   "metadata": {},
   "source": [
    "Using your *Amazon S3 bucket* as argument, run the cell below. If you have already uploaded COCO 2017 dataset to your Amazon S3 bucket, you may skip this step."
   ]
  },
  {
   "cell_type": "code",
   "execution_count": 5,
   "metadata": {},
   "outputs": [],
   "source": [
    "%%sh\n",
    "chmod +x prepare-s3-bucket.sh\n",
    "chmod +x stack-fsx.sh"
   ]
  },
  {
   "cell_type": "code",
   "execution_count": 4,
   "metadata": {},
   "outputs": [
    {
     "name": "stdout",
     "output_type": "stream",
     "text": [
      "Create stage directory: /home/ec2-user/SageMaker/coco-2017-2022-03-09-09-34-04\n",
      "--2022-03-09 09:34:04--  http://images.cocodataset.org/zips/train2017.zip\n",
      "Resolving images.cocodataset.org (images.cocodataset.org)... 52.217.39.172\n",
      "Connecting to images.cocodataset.org (images.cocodataset.org)|52.217.39.172|:80... connected.\n",
      "HTTP request sent, awaiting response... 200 OK\n",
      "Length: 19336861798 (18G) [application/zip]\n",
      "Saving to: ‘/home/ec2-user/SageMaker/coco-2017-2022-03-09-09-34-04/train2017.zip’\n",
      "\n",
      "/home/ec2-user/Sage 100%[===================>]  18.01G   142MB/s    in 3m 27s  \n",
      "\n",
      "2022-03-09 09:37:31 (89.3 MB/s) - ‘/home/ec2-user/SageMaker/coco-2017-2022-03-09-09-34-04/train2017.zip’ saved [19336861798/19336861798]\n",
      "\n",
      "Extracting /home/ec2-user/SageMaker/coco-2017-2022-03-09-09-34-04/train2017.zip\n",
      "============================================================================================================================================================================================================================================Done.\n",
      "--2022-03-09 09:39:57--  http://images.cocodataset.org/zips/val2017.zip\n",
      "Resolving images.cocodataset.org (images.cocodataset.org)... 52.216.26.44\n",
      "Connecting to images.cocodataset.org (images.cocodataset.org)|52.216.26.44|:80... connected.\n",
      "HTTP request sent, awaiting response... 200 OK\n",
      "Length: 815585330 (778M) [application/zip]\n",
      "Saving to: ‘/home/ec2-user/SageMaker/coco-2017-2022-03-09-09-34-04/val2017.zip’\n",
      "\n",
      "/home/ec2-user/Sage 100%[===================>] 777.80M  83.7MB/s    in 8.9s    \n",
      "\n",
      "2022-03-09 09:40:06 (87.0 MB/s) - ‘/home/ec2-user/SageMaker/coco-2017-2022-03-09-09-34-04/val2017.zip’ saved [815585330/815585330]\n",
      "\n",
      "Extracting /home/ec2-user/SageMaker/coco-2017-2022-03-09-09-34-04/val2017.zip\n",
      "==========Done.\n",
      "--2022-03-09 09:40:12--  http://images.cocodataset.org/annotations/annotations_trainval2017.zip\n",
      "Resolving images.cocodataset.org (images.cocodataset.org)... 52.217.77.108\n",
      "Connecting to images.cocodataset.org (images.cocodataset.org)|52.217.77.108|:80... connected.\n",
      "HTTP request sent, awaiting response... 200 OK\n",
      "Length: 252907541 (241M) [application/zip]\n",
      "Saving to: ‘/home/ec2-user/SageMaker/coco-2017-2022-03-09-09-34-04/annotations_trainval2017.zip’\n",
      "\n",
      "/home/ec2-user/Sage 100%[===================>] 241.19M  92.3MB/s    in 2.6s    \n",
      "\n",
      "2022-03-09 09:40:15 (92.3 MB/s) - ‘/home/ec2-user/SageMaker/coco-2017-2022-03-09-09-34-04/annotations_trainval2017.zip’ saved [252907541/252907541]\n",
      "\n",
      "Archive:  /home/ec2-user/SageMaker/coco-2017-2022-03-09-09-34-04/annotations_trainval2017.zip\n",
      "  inflating: /home/ec2-user/SageMaker/coco-2017-2022-03-09-09-34-04/annotations/instances_train2017.json  \n",
      "  inflating: /home/ec2-user/SageMaker/coco-2017-2022-03-09-09-34-04/annotations/instances_val2017.json  \n",
      "  inflating: /home/ec2-user/SageMaker/coco-2017-2022-03-09-09-34-04/annotations/captions_train2017.json  \n",
      "  inflating: /home/ec2-user/SageMaker/coco-2017-2022-03-09-09-34-04/annotations/captions_val2017.json  \n",
      "  inflating: /home/ec2-user/SageMaker/coco-2017-2022-03-09-09-34-04/annotations/person_keypoints_train2017.json  \n",
      "  inflating: /home/ec2-user/SageMaker/coco-2017-2022-03-09-09-34-04/annotations/person_keypoints_val2017.json  \n",
      "--2022-03-09 09:40:23--  http://models.tensorpack.com/FasterRCNN/ImageNet-R50-AlignPadding.npz\n",
      "Resolving models.tensorpack.com (models.tensorpack.com)... 185.207.105.29\n",
      "Connecting to models.tensorpack.com (models.tensorpack.com)|185.207.105.29|:80... connected.\n",
      "HTTP request sent, awaiting response... 200 OK\n",
      "Length: 95179737 (91M) [application/octet-stream]\n",
      "Saving to: ‘/home/ec2-user/SageMaker/coco-2017-2022-03-09-09-34-04/pretrained-models/ImageNet-R50-AlignPadding.npz’\n",
      "\n",
      "/home/ec2-user/Sage 100%[===================>]  90.77M  17.3MB/s    in 6.3s    \n",
      "\n",
      "2022-03-09 09:40:29 (14.3 MB/s) - ‘/home/ec2-user/SageMaker/coco-2017-2022-03-09-09-34-04/pretrained-models/ImageNet-R50-AlignPadding.npz’ saved [95179737/95179737]\n",
      "\n",
      "Wed Mar  9 09:40:29 UTC 2022: Uploading extracted files to s3://cf-mask-cnn-handson/mask-rcnn/sagemaker/input/train [ eta 12 minutes ]\n",
      "================================================================================================================================================================================================================================================================================================================================================================================================================================================================================================================================================================================================================================================================================================================================================================================================================================================================================================================================================================================================================================================================================================================================================================================================================================================================================================================================================================================================================================================================================================================================================================================================================================================================================================================================================================================================================================================================================================================================================================================================================================================================================================================================================================================================================================================================================================================================================================================================================================================================================================================================================================Done.\n",
      "Delete stage directory: /home/ec2-user/SageMaker/coco-2017-2022-03-09-09-34-04\n",
      "Success.\n",
      "CPU times: user 16.9 s, sys: 2.39 s, total: 19.2 s\n",
      "Wall time: 23min 34s\n"
     ]
    }
   ],
   "source": [
    "%%time\n",
    "!./prepare-s3-bucket.sh {s3_bucket}"
   ]
  },
  {
   "cell_type": "markdown",
   "metadata": {},
   "source": [
    "## Create FSx Lustre file-system and import data from S3\n",
    "\n",
    "Below, we use [AWS CloudFomration stack](https://docs.aws.amazon.com/en_pv/AWSCloudFormation/latest/UserGuide/stacks.html) to create a FSx Lustre file-system and import COCO 2017 dataset into the FSx file-system from your S3 bucket. "
   ]
  },
  {
   "cell_type": "code",
   "execution_count": 8,
   "metadata": {},
   "outputs": [
    {
     "name": "stdout",
     "output_type": "stream",
     "text": [
      "tst\n"
     ]
    }
   ],
   "source": [
    "print(\"tst\")"
   ]
  },
  {
   "cell_type": "code",
   "execution_count": 9,
   "metadata": {},
   "outputs": [
    {
     "name": "stdout",
     "output_type": "stream",
     "text": [
      "#!/bin/bash\n",
      "\n",
      "if [ $# -lt 5 ]; then\n",
      "    echo \"usage: $0 <aws-region> <s3-import-path> <fsx-capacity> <subnet-id> <security-group-id>\"\n",
      "    exit 1\n",
      "fi\n",
      "\n",
      "# AWS Region\n",
      "AWS_REGION=$1\n",
      "\n",
      "# S3 import path\n",
      "S3_IMPORT_PATH=$2\n",
      "\n",
      "# FSx storage capacity in multiples of 3600\n",
      "STORAGE_CAPACITY=$3\n",
      "\n",
      "SUBNET_ID=$4\n",
      "\n",
      "SG_ID=$5\n",
      "\n",
      "DATE=`date +%s`\n",
      "\n",
      "#Customize stack name as needed\n",
      "STACK_NAME=\"fsx-stack-$DATE\"\n",
      "\n",
      "# cfn template name\n",
      "CFN_TEMPLATE='cfn-fsx.yaml'\n",
      "\n",
      "aws cloudformation create-stack --region $AWS_REGION  --stack-name $STACK_NAME \\\n",
      "--template-body file://$CFN_TEMPLATE \\\n",
      "--capabilities CAPABILITY_NAMED_IAM \\\n",
      "--parameters \\\n",
      "ParameterKey=S3ImportPath,ParameterValue=$S3_IMPORT_PATH \\\n",
      "ParameterKey=StorageCapacityGiB,ParameterValue=$STORAGE_CAPACITY \\\n",
      "ParameterKey=SecurityGroupId,ParameterValue=$SG_ID \\\n",
      "ParameterKey=SubnetId,ParameterValue=$SUBNET_ID \n",
      "\n",
      "echo \"Creating FSx Luster file-system [eta 600 seconds]\"\n",
      "\n",
      "sleep 30\n",
      "\n",
      "progress=$(aws cloudformation list-stacks --stack-status-filter 'CREATE_IN_PROGRESS' | grep $STACK_NAME | wc -l)\n",
      "while [ $progress -ne 0 ]; do\n",
      "let elapsed=\"`date +%s` - $DATE\"\n",
      "echo \"Stack $STACK_NAME status: CREATE_IN_PROGRESS: [ $elapsed secs elapsed ]\"\n",
      "sleep 30 \n",
      "progress=$(aws cloudformation list-stacks --stack-status-filter 'CREATE_IN_PROGRESS' | grep $STACK_NAME | wc -l)\n",
      "done\n",
      "sleep 5 \n",
      "aws cloudformation describe-stacks --stack-name $STACK_NAME\n"
     ]
    }
   ],
   "source": [
    "!cat stack-fsx.sh"
   ]
  },
  {
   "cell_type": "markdown",
   "metadata": {},
   "source": [
    "For this step, the [IAM Role](https://docs.aws.amazon.com/IAM/latest/UserGuide/id_roles.html) attached to this notebook instance needs full access to Amazon CloudFormation and FSx services. If you created this notebook instance using the ```./stack-sm.sh``` script in this repository, the IAM Role attached to this notebook instance is already setup with requried access. \n",
    "\n",
    "```usage: ./stack-fsx.sh <aws-region> <s3-import-path> <fsx-capacity> <subnet-id> <security-group-id>```\n",
    "    \n",
    "<table>\n",
    "    <caption>FSx configuraiton</caption>\n",
    "    <tr>\n",
    "        <th style=\"text-align:center\">Argument</th>\n",
    "        <th style=\"text-align:center\">Description</th>\n",
    "        <th style=\"text-align:center\">Value</th>\n",
    "    </tr>\n",
    "    <tr>\n",
    "        <td style=\"text-align:center\">aws-region</td>\n",
    "        <td style=\"text-align:left\">AWS region name</td>\n",
    "        <td style=\"text-align:center\">e.g. us-east-1 </td>\n",
    "     <tr>\n",
    "    <tr>\n",
    "        <td style=\"text-align:center\">s3-import-path</td>\n",
    "        <td style=\"text-align:left\">S3 import path for importing data to FSx file-system</td>\n",
    "        <td style=\"text-align:center\">s3://&lt;s3-bucket-name&gt;/mask-rcnn/sagemaker/input</td>\n",
    "     <tr>\n",
    "      <tr>\n",
    "        <td style=\"text-align:center\">fsx-capacity</td>\n",
    "        <td style=\"text-align:left\">FSx Lustre file-system capacity in GiB</td>\n",
    "        <td style=\"text-align:center\">3600 or 7200</td>\n",
    "     <tr>\n",
    "      <tr>\n",
    "        <td style=\"text-align:center\">subnet-id</td>\n",
    "        <td style=\"text-align:left\">This is available in the output of ./stack-sm.sh script you used to create this notebook instance.  Specify only one subnet.</td>\n",
    "        <td style=\"text-align:center\">subnet-xxxx</td>\n",
    "     <tr>\n",
    "     <tr>\n",
    "        <td style=\"text-align:center\">security-group-id</td>\n",
    "        <td style=\"text-align:left\">Security group id for FSx lustre file system. This is available in the output of ./stack-sm.sh script you used to create this notebook instance.   </td>\n",
    "        <td style=\"text-align:center\">sg-xxxx</td>\n",
    "     <tr>\n",
    "</table>\n",
    "\n",
    "\n",
    "If you have already created a FSx Lustre file-system and populated it with COCO 2017 dataset, you may skip this step."
   ]
  },
  {
   "cell_type": "code",
   "execution_count": 14,
   "metadata": {},
   "outputs": [],
   "source": [
    "\n",
    "#security_group_id = # 'sg-xxxxxxxx' \n",
    "security_group_id = \"sg-09cd03c48cfa209b4\"  \n",
    "\n",
    "# subnet_id = # 'subnet-xxxxxxx'\n",
    "subnet_id = \"subnet-009b8a529792a4279\"# 'subnet-009b8a529792a4279'\n",
    "\n",
    "    "
   ]
  },
  {
   "cell_type": "code",
   "execution_count": 15,
   "metadata": {},
   "outputs": [
    {
     "name": "stdout",
     "output_type": "stream",
     "text": [
      "{\n",
      "    \"StackId\": \"arn:aws:cloudformation:us-east-1:189546603447:stack/fsx-stack-1646830945/2b06d440-9fa9-11ec-8982-12d1fd7a2609\"\n",
      "}\n",
      "Creating FSx Luster file-system [eta 600 seconds]\n",
      "Stack fsx-stack-1646830945 status: CREATE_IN_PROGRESS: [ 31 secs elapsed ]\n",
      "Stack fsx-stack-1646830945 status: CREATE_IN_PROGRESS: [ 62 secs elapsed ]\n",
      "Stack fsx-stack-1646830945 status: CREATE_IN_PROGRESS: [ 93 secs elapsed ]\n",
      "Stack fsx-stack-1646830945 status: CREATE_IN_PROGRESS: [ 123 secs elapsed ]\n",
      "Stack fsx-stack-1646830945 status: CREATE_IN_PROGRESS: [ 154 secs elapsed ]\n",
      "Stack fsx-stack-1646830945 status: CREATE_IN_PROGRESS: [ 185 secs elapsed ]\n",
      "Stack fsx-stack-1646830945 status: CREATE_IN_PROGRESS: [ 215 secs elapsed ]\n",
      "Stack fsx-stack-1646830945 status: CREATE_IN_PROGRESS: [ 246 secs elapsed ]\n",
      "Stack fsx-stack-1646830945 status: CREATE_IN_PROGRESS: [ 277 secs elapsed ]\n",
      "Stack fsx-stack-1646830945 status: CREATE_IN_PROGRESS: [ 307 secs elapsed ]\n",
      "Stack fsx-stack-1646830945 status: CREATE_IN_PROGRESS: [ 338 secs elapsed ]\n",
      "Stack fsx-stack-1646830945 status: CREATE_IN_PROGRESS: [ 368 secs elapsed ]\n",
      "Stack fsx-stack-1646830945 status: CREATE_IN_PROGRESS: [ 399 secs elapsed ]\n",
      "Stack fsx-stack-1646830945 status: CREATE_IN_PROGRESS: [ 430 secs elapsed ]\n",
      "Stack fsx-stack-1646830945 status: CREATE_IN_PROGRESS: [ 460 secs elapsed ]\n",
      "Stack fsx-stack-1646830945 status: CREATE_IN_PROGRESS: [ 491 secs elapsed ]\n",
      "Stack fsx-stack-1646830945 status: CREATE_IN_PROGRESS: [ 522 secs elapsed ]\n",
      "Stack fsx-stack-1646830945 status: CREATE_IN_PROGRESS: [ 552 secs elapsed ]\n",
      "{\n",
      "    \"Stacks\": [\n",
      "        {\n",
      "            \"StackId\": \"arn:aws:cloudformation:us-east-1:189546603447:stack/fsx-stack-1646830945/2b06d440-9fa9-11ec-8982-12d1fd7a2609\",\n",
      "            \"StackName\": \"fsx-stack-1646830945\",\n",
      "            \"Description\": \"Creates FSx Lustre file-system.\",\n",
      "            \"Parameters\": [\n",
      "                {\n",
      "                    \"ParameterKey\": \"SecurityGroupId\",\n",
      "                    \"ParameterValue\": \"sg-09cd03c48cfa209b4\"\n",
      "                },\n",
      "                {\n",
      "                    \"ParameterKey\": \"StorageCapacityGiB\",\n",
      "                    \"ParameterValue\": \"3600\"\n",
      "                },\n",
      "                {\n",
      "                    \"ParameterKey\": \"SubnetId\",\n",
      "                    \"ParameterValue\": \"subnet-009b8a529792a4279\"\n",
      "                },\n",
      "                {\n",
      "                    \"ParameterKey\": \"S3ImportPath\",\n",
      "                    \"ParameterValue\": \"s3://cf-mask-cnn-handson/mask-rcnn/sagemaker/input\"\n",
      "                }\n",
      "            ],\n",
      "            \"CreationTime\": \"2022-03-09T13:02:26.220Z\",\n",
      "            \"RollbackConfiguration\": {},\n",
      "            \"StackStatus\": \"CREATE_COMPLETE\",\n",
      "            \"DisableRollback\": false,\n",
      "            \"NotificationARNs\": [],\n",
      "            \"Capabilities\": [\n",
      "                \"CAPABILITY_NAMED_IAM\"\n",
      "            ],\n",
      "            \"Outputs\": [\n",
      "                {\n",
      "                    \"OutputKey\": \"FSxFileSystemId\",\n",
      "                    \"OutputValue\": \"fs-01cc5734662bb9aac\"\n",
      "                }\n",
      "            ],\n",
      "            \"Tags\": [],\n",
      "            \"EnableTerminationProtection\": false,\n",
      "            \"DriftInformation\": {\n",
      "                \"StackDriftStatus\": \"NOT_CHECKED\"\n",
      "            }\n",
      "        }\n",
      "    ]\n",
      "}\n",
      "CPU times: user 6.73 s, sys: 862 ms, total: 7.59 s\n",
      "Wall time: 9min 48s\n"
     ]
    }
   ],
   "source": [
    "%%time\n",
    "!./stack-fsx.sh {aws_region} s3://{s3_bucket}/mask-rcnn/sagemaker/input 3600 {subnet_id} {security_group_id}"
   ]
  },
  {
   "cell_type": "code",
   "execution_count": null,
   "metadata": {},
   "outputs": [],
   "source": []
  }
 ],
 "metadata": {
  "kernelspec": {
   "display_name": "conda_tensorflow_p36",
   "language": "python",
   "name": "conda_tensorflow_p36"
  },
  "language_info": {
   "codemirror_mode": {
    "name": "ipython",
    "version": 3
   },
   "file_extension": ".py",
   "mimetype": "text/x-python",
   "name": "python",
   "nbconvert_exporter": "python",
   "pygments_lexer": "ipython3",
   "version": "3.6.13"
  }
 },
 "nbformat": 4,
 "nbformat_minor": 4
}
